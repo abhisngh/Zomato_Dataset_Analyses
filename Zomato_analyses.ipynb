{
 "cells": [
  {
   "cell_type": "markdown",
   "metadata": {},
   "source": [
    "# Importing the Library"
   ]
  },
  {
   "cell_type": "code",
   "execution_count": 1,
   "metadata": {},
   "outputs": [],
   "source": [
    "import pandas as pd\n",
    "import numpy as np\n",
    "import matplotlib.pyplot as plt\n",
    "import requests\n",
    "import seaborn as sns\n",
    "import matplotlib.cm as cm\n",
    "from matplotlib.colors import Normalize"
   ]
  },
  {
   "cell_type": "code",
   "execution_count": 2,
   "metadata": {},
   "outputs": [],
   "source": [
    "#Reading the Dataset\n",
    "df=pd.read_csv(\"zomato.csv\",encoding='ISO-8859-1',skipinitialspace=True)"
   ]
  },
  {
   "cell_type": "code",
   "execution_count": 3,
   "metadata": {},
   "outputs": [
    {
     "data": {
      "text/html": [
       "<div>\n",
       "<style scoped>\n",
       "    .dataframe tbody tr th:only-of-type {\n",
       "        vertical-align: middle;\n",
       "    }\n",
       "\n",
       "    .dataframe tbody tr th {\n",
       "        vertical-align: top;\n",
       "    }\n",
       "\n",
       "    .dataframe thead th {\n",
       "        text-align: right;\n",
       "    }\n",
       "</style>\n",
       "<table border=\"1\" class=\"dataframe\">\n",
       "  <thead>\n",
       "    <tr style=\"text-align: right;\">\n",
       "      <th></th>\n",
       "      <th>Restaurant ID</th>\n",
       "      <th>Restaurant Name</th>\n",
       "      <th>Country Code</th>\n",
       "      <th>City</th>\n",
       "      <th>Address</th>\n",
       "      <th>Locality</th>\n",
       "      <th>Locality Verbose</th>\n",
       "      <th>Longitude</th>\n",
       "      <th>Latitude</th>\n",
       "      <th>Cuisines</th>\n",
       "      <th>...</th>\n",
       "      <th>Currency</th>\n",
       "      <th>Has Table booking</th>\n",
       "      <th>Has Online delivery</th>\n",
       "      <th>Is delivering now</th>\n",
       "      <th>Switch to order menu</th>\n",
       "      <th>Price range</th>\n",
       "      <th>Aggregate rating</th>\n",
       "      <th>Rating color</th>\n",
       "      <th>Rating text</th>\n",
       "      <th>Votes</th>\n",
       "    </tr>\n",
       "  </thead>\n",
       "  <tbody>\n",
       "    <tr>\n",
       "      <td>0</td>\n",
       "      <td>6317637</td>\n",
       "      <td>Le Petit Souffle</td>\n",
       "      <td>162</td>\n",
       "      <td>Makati City</td>\n",
       "      <td>Third Floor, Century City Mall, Kalayaan Avenu...</td>\n",
       "      <td>Century City Mall, Poblacion, Makati City</td>\n",
       "      <td>Century City Mall, Poblacion, Makati City, Mak...</td>\n",
       "      <td>121.027535</td>\n",
       "      <td>14.565443</td>\n",
       "      <td>French, Japanese, Desserts</td>\n",
       "      <td>...</td>\n",
       "      <td>Botswana Pula(P)</td>\n",
       "      <td>Yes</td>\n",
       "      <td>No</td>\n",
       "      <td>No</td>\n",
       "      <td>No</td>\n",
       "      <td>3</td>\n",
       "      <td>4.8</td>\n",
       "      <td>Dark Green</td>\n",
       "      <td>Excellent</td>\n",
       "      <td>314</td>\n",
       "    </tr>\n",
       "    <tr>\n",
       "      <td>1</td>\n",
       "      <td>6304287</td>\n",
       "      <td>Izakaya Kikufuji</td>\n",
       "      <td>162</td>\n",
       "      <td>Makati City</td>\n",
       "      <td>Little Tokyo, 2277 Chino Roces Avenue, Legaspi...</td>\n",
       "      <td>Little Tokyo, Legaspi Village, Makati City</td>\n",
       "      <td>Little Tokyo, Legaspi Village, Makati City, Ma...</td>\n",
       "      <td>121.014101</td>\n",
       "      <td>14.553708</td>\n",
       "      <td>Japanese</td>\n",
       "      <td>...</td>\n",
       "      <td>Botswana Pula(P)</td>\n",
       "      <td>Yes</td>\n",
       "      <td>No</td>\n",
       "      <td>No</td>\n",
       "      <td>No</td>\n",
       "      <td>3</td>\n",
       "      <td>4.5</td>\n",
       "      <td>Dark Green</td>\n",
       "      <td>Excellent</td>\n",
       "      <td>591</td>\n",
       "    </tr>\n",
       "    <tr>\n",
       "      <td>2</td>\n",
       "      <td>6300002</td>\n",
       "      <td>Heat - Edsa Shangri-La</td>\n",
       "      <td>162</td>\n",
       "      <td>Mandaluyong City</td>\n",
       "      <td>Edsa Shangri-La, 1 Garden Way, Ortigas, Mandal...</td>\n",
       "      <td>Edsa Shangri-La, Ortigas, Mandaluyong City</td>\n",
       "      <td>Edsa Shangri-La, Ortigas, Mandaluyong City, Ma...</td>\n",
       "      <td>121.056831</td>\n",
       "      <td>14.581404</td>\n",
       "      <td>Seafood, Asian, Filipino, Indian</td>\n",
       "      <td>...</td>\n",
       "      <td>Botswana Pula(P)</td>\n",
       "      <td>Yes</td>\n",
       "      <td>No</td>\n",
       "      <td>No</td>\n",
       "      <td>No</td>\n",
       "      <td>4</td>\n",
       "      <td>4.4</td>\n",
       "      <td>Green</td>\n",
       "      <td>Very Good</td>\n",
       "      <td>270</td>\n",
       "    </tr>\n",
       "    <tr>\n",
       "      <td>3</td>\n",
       "      <td>6318506</td>\n",
       "      <td>Ooma</td>\n",
       "      <td>162</td>\n",
       "      <td>Mandaluyong City</td>\n",
       "      <td>Third Floor, Mega Fashion Hall, SM Megamall, O...</td>\n",
       "      <td>SM Megamall, Ortigas, Mandaluyong City</td>\n",
       "      <td>SM Megamall, Ortigas, Mandaluyong City, Mandal...</td>\n",
       "      <td>121.056475</td>\n",
       "      <td>14.585318</td>\n",
       "      <td>Japanese, Sushi</td>\n",
       "      <td>...</td>\n",
       "      <td>Botswana Pula(P)</td>\n",
       "      <td>No</td>\n",
       "      <td>No</td>\n",
       "      <td>No</td>\n",
       "      <td>No</td>\n",
       "      <td>4</td>\n",
       "      <td>4.9</td>\n",
       "      <td>Dark Green</td>\n",
       "      <td>Excellent</td>\n",
       "      <td>365</td>\n",
       "    </tr>\n",
       "    <tr>\n",
       "      <td>4</td>\n",
       "      <td>6314302</td>\n",
       "      <td>Sambo Kojin</td>\n",
       "      <td>162</td>\n",
       "      <td>Mandaluyong City</td>\n",
       "      <td>Third Floor, Mega Atrium, SM Megamall, Ortigas...</td>\n",
       "      <td>SM Megamall, Ortigas, Mandaluyong City</td>\n",
       "      <td>SM Megamall, Ortigas, Mandaluyong City, Mandal...</td>\n",
       "      <td>121.057508</td>\n",
       "      <td>14.584450</td>\n",
       "      <td>Japanese, Korean</td>\n",
       "      <td>...</td>\n",
       "      <td>Botswana Pula(P)</td>\n",
       "      <td>Yes</td>\n",
       "      <td>No</td>\n",
       "      <td>No</td>\n",
       "      <td>No</td>\n",
       "      <td>4</td>\n",
       "      <td>4.8</td>\n",
       "      <td>Dark Green</td>\n",
       "      <td>Excellent</td>\n",
       "      <td>229</td>\n",
       "    </tr>\n",
       "  </tbody>\n",
       "</table>\n",
       "<p>5 rows × 21 columns</p>\n",
       "</div>"
      ],
      "text/plain": [
       "   Restaurant ID         Restaurant Name  Country Code              City  \\\n",
       "0        6317637        Le Petit Souffle           162       Makati City   \n",
       "1        6304287        Izakaya Kikufuji           162       Makati City   \n",
       "2        6300002  Heat - Edsa Shangri-La           162  Mandaluyong City   \n",
       "3        6318506                    Ooma           162  Mandaluyong City   \n",
       "4        6314302             Sambo Kojin           162  Mandaluyong City   \n",
       "\n",
       "                                             Address  \\\n",
       "0  Third Floor, Century City Mall, Kalayaan Avenu...   \n",
       "1  Little Tokyo, 2277 Chino Roces Avenue, Legaspi...   \n",
       "2  Edsa Shangri-La, 1 Garden Way, Ortigas, Mandal...   \n",
       "3  Third Floor, Mega Fashion Hall, SM Megamall, O...   \n",
       "4  Third Floor, Mega Atrium, SM Megamall, Ortigas...   \n",
       "\n",
       "                                     Locality  \\\n",
       "0   Century City Mall, Poblacion, Makati City   \n",
       "1  Little Tokyo, Legaspi Village, Makati City   \n",
       "2  Edsa Shangri-La, Ortigas, Mandaluyong City   \n",
       "3      SM Megamall, Ortigas, Mandaluyong City   \n",
       "4      SM Megamall, Ortigas, Mandaluyong City   \n",
       "\n",
       "                                    Locality Verbose   Longitude   Latitude  \\\n",
       "0  Century City Mall, Poblacion, Makati City, Mak...  121.027535  14.565443   \n",
       "1  Little Tokyo, Legaspi Village, Makati City, Ma...  121.014101  14.553708   \n",
       "2  Edsa Shangri-La, Ortigas, Mandaluyong City, Ma...  121.056831  14.581404   \n",
       "3  SM Megamall, Ortigas, Mandaluyong City, Mandal...  121.056475  14.585318   \n",
       "4  SM Megamall, Ortigas, Mandaluyong City, Mandal...  121.057508  14.584450   \n",
       "\n",
       "                           Cuisines  ...          Currency Has Table booking  \\\n",
       "0        French, Japanese, Desserts  ...  Botswana Pula(P)               Yes   \n",
       "1                          Japanese  ...  Botswana Pula(P)               Yes   \n",
       "2  Seafood, Asian, Filipino, Indian  ...  Botswana Pula(P)               Yes   \n",
       "3                   Japanese, Sushi  ...  Botswana Pula(P)                No   \n",
       "4                  Japanese, Korean  ...  Botswana Pula(P)               Yes   \n",
       "\n",
       "  Has Online delivery Is delivering now Switch to order menu Price range  \\\n",
       "0                  No                No                   No           3   \n",
       "1                  No                No                   No           3   \n",
       "2                  No                No                   No           4   \n",
       "3                  No                No                   No           4   \n",
       "4                  No                No                   No           4   \n",
       "\n",
       "   Aggregate rating  Rating color Rating text Votes  \n",
       "0               4.8    Dark Green   Excellent   314  \n",
       "1               4.5    Dark Green   Excellent   591  \n",
       "2               4.4         Green   Very Good   270  \n",
       "3               4.9    Dark Green   Excellent   365  \n",
       "4               4.8    Dark Green   Excellent   229  \n",
       "\n",
       "[5 rows x 21 columns]"
      ]
     },
     "execution_count": 3,
     "metadata": {},
     "output_type": "execute_result"
    }
   ],
   "source": [
    "#Print the first 5 record from the dataframe\n",
    "df.head()"
   ]
  },
  {
   "cell_type": "code",
   "execution_count": 4,
   "metadata": {},
   "outputs": [],
   "source": [
    "#Taking the Country Code=1 as it is for INDIA and storing it new dataframe\n",
    "df_india=df[df['Country Code']==1]"
   ]
  },
  {
   "cell_type": "code",
   "execution_count": 5,
   "metadata": {},
   "outputs": [],
   "source": [
    "#Reset the index of the dataframe\n",
    "df_india.reset_index(inplace=True)"
   ]
  },
  {
   "cell_type": "code",
   "execution_count": 6,
   "metadata": {},
   "outputs": [],
   "source": [
    "#Droping the Index Column from the Dataset\n",
    "df_india=df_india.drop('index',axis=1)"
   ]
  },
  {
   "cell_type": "code",
   "execution_count": 7,
   "metadata": {},
   "outputs": [
    {
     "data": {
      "text/html": [
       "<div>\n",
       "<style scoped>\n",
       "    .dataframe tbody tr th:only-of-type {\n",
       "        vertical-align: middle;\n",
       "    }\n",
       "\n",
       "    .dataframe tbody tr th {\n",
       "        vertical-align: top;\n",
       "    }\n",
       "\n",
       "    .dataframe thead th {\n",
       "        text-align: right;\n",
       "    }\n",
       "</style>\n",
       "<table border=\"1\" class=\"dataframe\">\n",
       "  <thead>\n",
       "    <tr style=\"text-align: right;\">\n",
       "      <th></th>\n",
       "      <th>Restaurant ID</th>\n",
       "      <th>Restaurant Name</th>\n",
       "      <th>Country Code</th>\n",
       "      <th>City</th>\n",
       "      <th>Address</th>\n",
       "      <th>Locality</th>\n",
       "      <th>Locality Verbose</th>\n",
       "      <th>Longitude</th>\n",
       "      <th>Latitude</th>\n",
       "      <th>Cuisines</th>\n",
       "      <th>...</th>\n",
       "      <th>Currency</th>\n",
       "      <th>Has Table booking</th>\n",
       "      <th>Has Online delivery</th>\n",
       "      <th>Is delivering now</th>\n",
       "      <th>Switch to order menu</th>\n",
       "      <th>Price range</th>\n",
       "      <th>Aggregate rating</th>\n",
       "      <th>Rating color</th>\n",
       "      <th>Rating text</th>\n",
       "      <th>Votes</th>\n",
       "    </tr>\n",
       "  </thead>\n",
       "  <tbody>\n",
       "    <tr>\n",
       "      <td>0</td>\n",
       "      <td>3400025</td>\n",
       "      <td>Jahanpanah</td>\n",
       "      <td>1</td>\n",
       "      <td>Agra</td>\n",
       "      <td>E 23, Shopping Arcade, Sadar Bazaar, Agra Cant...</td>\n",
       "      <td>Agra Cantt</td>\n",
       "      <td>Agra Cantt, Agra</td>\n",
       "      <td>78.011544</td>\n",
       "      <td>27.161661</td>\n",
       "      <td>North Indian, Mughlai</td>\n",
       "      <td>...</td>\n",
       "      <td>Indian Rupees(Rs.)</td>\n",
       "      <td>No</td>\n",
       "      <td>No</td>\n",
       "      <td>No</td>\n",
       "      <td>No</td>\n",
       "      <td>3</td>\n",
       "      <td>3.9</td>\n",
       "      <td>Yellow</td>\n",
       "      <td>Good</td>\n",
       "      <td>140</td>\n",
       "    </tr>\n",
       "    <tr>\n",
       "      <td>1</td>\n",
       "      <td>3400341</td>\n",
       "      <td>Rangrezz Restaurant</td>\n",
       "      <td>1</td>\n",
       "      <td>Agra</td>\n",
       "      <td>E-20, Shopping Arcade, Sadar Bazaar, Agra Cant...</td>\n",
       "      <td>Agra Cantt</td>\n",
       "      <td>Agra Cantt, Agra</td>\n",
       "      <td>0.000000</td>\n",
       "      <td>0.000000</td>\n",
       "      <td>North Indian, Mughlai</td>\n",
       "      <td>...</td>\n",
       "      <td>Indian Rupees(Rs.)</td>\n",
       "      <td>No</td>\n",
       "      <td>No</td>\n",
       "      <td>No</td>\n",
       "      <td>No</td>\n",
       "      <td>2</td>\n",
       "      <td>3.5</td>\n",
       "      <td>Yellow</td>\n",
       "      <td>Good</td>\n",
       "      <td>71</td>\n",
       "    </tr>\n",
       "    <tr>\n",
       "      <td>2</td>\n",
       "      <td>3400005</td>\n",
       "      <td>Time2Eat - Mama Chicken</td>\n",
       "      <td>1</td>\n",
       "      <td>Agra</td>\n",
       "      <td>Main Market, Sadar Bazaar, Agra Cantt, Agra</td>\n",
       "      <td>Agra Cantt</td>\n",
       "      <td>Agra Cantt, Agra</td>\n",
       "      <td>78.011608</td>\n",
       "      <td>27.160832</td>\n",
       "      <td>North Indian</td>\n",
       "      <td>...</td>\n",
       "      <td>Indian Rupees(Rs.)</td>\n",
       "      <td>No</td>\n",
       "      <td>No</td>\n",
       "      <td>No</td>\n",
       "      <td>No</td>\n",
       "      <td>2</td>\n",
       "      <td>3.6</td>\n",
       "      <td>Yellow</td>\n",
       "      <td>Good</td>\n",
       "      <td>94</td>\n",
       "    </tr>\n",
       "    <tr>\n",
       "      <td>3</td>\n",
       "      <td>3400021</td>\n",
       "      <td>Chokho Jeeman Marwari Jain Bhojanalya</td>\n",
       "      <td>1</td>\n",
       "      <td>Agra</td>\n",
       "      <td>1/48, Delhi Gate, Station Road, Raja Mandi, Ci...</td>\n",
       "      <td>Civil Lines</td>\n",
       "      <td>Civil Lines, Agra</td>\n",
       "      <td>77.998092</td>\n",
       "      <td>27.195928</td>\n",
       "      <td>Rajasthani</td>\n",
       "      <td>...</td>\n",
       "      <td>Indian Rupees(Rs.)</td>\n",
       "      <td>No</td>\n",
       "      <td>No</td>\n",
       "      <td>No</td>\n",
       "      <td>No</td>\n",
       "      <td>2</td>\n",
       "      <td>4.0</td>\n",
       "      <td>Green</td>\n",
       "      <td>Very Good</td>\n",
       "      <td>87</td>\n",
       "    </tr>\n",
       "    <tr>\n",
       "      <td>4</td>\n",
       "      <td>3400017</td>\n",
       "      <td>Pinch Of Spice</td>\n",
       "      <td>1</td>\n",
       "      <td>Agra</td>\n",
       "      <td>23/453, Opposite Sanjay Cinema, Wazipura Road,...</td>\n",
       "      <td>Civil Lines</td>\n",
       "      <td>Civil Lines, Agra</td>\n",
       "      <td>78.007553</td>\n",
       "      <td>27.201725</td>\n",
       "      <td>North Indian, Chinese, Mughlai</td>\n",
       "      <td>...</td>\n",
       "      <td>Indian Rupees(Rs.)</td>\n",
       "      <td>No</td>\n",
       "      <td>No</td>\n",
       "      <td>No</td>\n",
       "      <td>No</td>\n",
       "      <td>3</td>\n",
       "      <td>4.2</td>\n",
       "      <td>Green</td>\n",
       "      <td>Very Good</td>\n",
       "      <td>177</td>\n",
       "    </tr>\n",
       "  </tbody>\n",
       "</table>\n",
       "<p>5 rows × 21 columns</p>\n",
       "</div>"
      ],
      "text/plain": [
       "   Restaurant ID                        Restaurant Name  Country Code  City  \\\n",
       "0        3400025                             Jahanpanah             1  Agra   \n",
       "1        3400341                    Rangrezz Restaurant             1  Agra   \n",
       "2        3400005                Time2Eat - Mama Chicken             1  Agra   \n",
       "3        3400021  Chokho Jeeman Marwari Jain Bhojanalya             1  Agra   \n",
       "4        3400017                         Pinch Of Spice             1  Agra   \n",
       "\n",
       "                                             Address     Locality  \\\n",
       "0  E 23, Shopping Arcade, Sadar Bazaar, Agra Cant...   Agra Cantt   \n",
       "1  E-20, Shopping Arcade, Sadar Bazaar, Agra Cant...   Agra Cantt   \n",
       "2        Main Market, Sadar Bazaar, Agra Cantt, Agra   Agra Cantt   \n",
       "3  1/48, Delhi Gate, Station Road, Raja Mandi, Ci...  Civil Lines   \n",
       "4  23/453, Opposite Sanjay Cinema, Wazipura Road,...  Civil Lines   \n",
       "\n",
       "    Locality Verbose  Longitude   Latitude                        Cuisines  \\\n",
       "0   Agra Cantt, Agra  78.011544  27.161661           North Indian, Mughlai   \n",
       "1   Agra Cantt, Agra   0.000000   0.000000           North Indian, Mughlai   \n",
       "2   Agra Cantt, Agra  78.011608  27.160832                    North Indian   \n",
       "3  Civil Lines, Agra  77.998092  27.195928                      Rajasthani   \n",
       "4  Civil Lines, Agra  78.007553  27.201725  North Indian, Chinese, Mughlai   \n",
       "\n",
       "   ...            Currency Has Table booking Has Online delivery  \\\n",
       "0  ...  Indian Rupees(Rs.)                No                  No   \n",
       "1  ...  Indian Rupees(Rs.)                No                  No   \n",
       "2  ...  Indian Rupees(Rs.)                No                  No   \n",
       "3  ...  Indian Rupees(Rs.)                No                  No   \n",
       "4  ...  Indian Rupees(Rs.)                No                  No   \n",
       "\n",
       "  Is delivering now Switch to order menu Price range  Aggregate rating  \\\n",
       "0                No                   No           3               3.9   \n",
       "1                No                   No           2               3.5   \n",
       "2                No                   No           2               3.6   \n",
       "3                No                   No           2               4.0   \n",
       "4                No                   No           3               4.2   \n",
       "\n",
       "   Rating color Rating text Votes  \n",
       "0        Yellow        Good   140  \n",
       "1        Yellow        Good    71  \n",
       "2        Yellow        Good    94  \n",
       "3         Green   Very Good    87  \n",
       "4         Green   Very Good   177  \n",
       "\n",
       "[5 rows x 21 columns]"
      ]
     },
     "execution_count": 7,
     "metadata": {},
     "output_type": "execute_result"
    }
   ],
   "source": [
    "#Print the fisrt 5 records from the dataset\n",
    "df_india.head()"
   ]
  },
  {
   "cell_type": "code",
   "execution_count": 8,
   "metadata": {},
   "outputs": [
    {
     "data": {
      "text/plain": [
       "array(['Agra', 'Ahmedabad', 'Allahabad', 'Amritsar', 'Aurangabad',\n",
       "       'Bangalore', 'Bhopal', 'Bhubaneshwar', 'Chandigarh', 'Chennai',\n",
       "       'Coimbatore', 'Dehradun', 'Faridabad', 'Ghaziabad', 'Goa',\n",
       "       'Gurgaon', 'Guwahati', 'Hyderabad', 'Indore', 'Jaipur', 'Kanpur',\n",
       "       'Kochi', 'Kolkata', 'Lucknow', 'Ludhiana', 'Mangalore', 'Mohali',\n",
       "       'Mumbai', 'Mysore', 'Nagpur', 'Nashik', 'New Delhi', 'Noida',\n",
       "       'Panchkula', 'Patna', 'Puducherry', 'Pune', 'Ranchi',\n",
       "       'Secunderabad', 'Surat', 'Vadodara', 'Varanasi', 'Vizag'],\n",
       "      dtype=object)"
      ]
     },
     "execution_count": 8,
     "metadata": {},
     "output_type": "execute_result"
    }
   ],
   "source": [
    "#Getting the all the unique City name in the Dataframe\n",
    "df_india['City'].unique()"
   ]
  },
  {
   "cell_type": "markdown",
   "metadata": {},
   "source": [
    "# Question 1"
   ]
  },
  {
   "cell_type": "markdown",
   "metadata": {},
   "source": [
    "1).The dataset is highly skewed toward the cities included in Delhi-NCR. So, we will summarise all the other cities in Rest of India while those in New Delhi, Ghaziabad, Noida, Gurgaon, Faridabad to Delhi-NCR. Doing this would make our analysis turn toward Delhi-NCR v Rest of India.\n",
    "a)Plot the bar graph of number of restaurants present in Delhi NCR vs Rest of India.\n",
    "b)Find the cuisines which are not present in restaurant of Delhi NCR but present in rest of India.\n",
    "c)Find the top 10 cuisines served by maximum number of restaurants in Delhi NCR and rest of India.\n",
    "d)Write a short detailed analysis of how cuisine served is different from Delhi NCR to Rest of India. Plot the suitable graph to explain your inference."
   ]
  },
  {
   "cell_type": "markdown",
   "metadata": {},
   "source": [
    "# Question 1a"
   ]
  },
  {
   "cell_type": "code",
   "execution_count": 9,
   "metadata": {},
   "outputs": [],
   "source": [
    "'''Combining the City name with New Delhi, Ghaziabad, Noida, Gurgaon and Faidabad to Delhi NCR\n",
    "   and taking all the city under Rest of India'''\n",
    "for i in df_india['City'].unique():\n",
    "    if (i=='New Delhi') or (i=='Ghaziabad') or (i=='Noida') or (i=='Gurgaon') or (i=='Faridabad'):\n",
    "        df_india['City'].replace(i,'Delhi NCR',inplace=True)\n",
    "    else:\n",
    "        df_india['City'].replace(i,'Rest of India',inplace=True)"
   ]
  },
  {
   "cell_type": "code",
   "execution_count": 10,
   "metadata": {},
   "outputs": [
    {
     "data": {
      "text/plain": [
       "array(['Rest of India', 'Delhi NCR'], dtype=object)"
      ]
     },
     "execution_count": 10,
     "metadata": {},
     "output_type": "execute_result"
    }
   ],
   "source": [
    "#Checking the unique elements \n",
    "df_india['City'].unique()"
   ]
  },
  {
   "cell_type": "code",
   "execution_count": 11,
   "metadata": {},
   "outputs": [
    {
     "data": {
      "text/plain": [
       "(7947, 705)"
      ]
     },
     "execution_count": 11,
     "metadata": {},
     "output_type": "execute_result"
    }
   ],
   "source": [
    "#Taking the total count of Records for both Delhi Ncr and Rest of India\n",
    "count_delhiNcr=df_india[df_india['City']=='Delhi NCR'].shape[0]\n",
    "count_restofIndia=df_india[df_india['City']=='Rest of India'].shape[0]\n",
    "count_delhiNcr,count_restofIndia"
   ]
  },
  {
   "cell_type": "code",
   "execution_count": 12,
   "metadata": {},
   "outputs": [
    {
     "data": {
      "image/png": "[encoded data removed]",
      "text/plain": [
       "<Figure size 432x288 with 1 Axes>"
      ]
     },
     "metadata": {
      "needs_background": "light"
     },
     "output_type": "display_data"
    }
   ],
   "source": [
    "#Plotting the Bar Graph\n",
    "graph=plt.bar(['Delhi Ncr','Rest of India'],[count_delhiNcr,count_restofIndia])\n",
    "graph[0].set_color('red')\n",
    "graph[1].set_color('Green')\n",
    "plt.title('Area vs Number of Restaurant')\n",
    "plt.ylabel(\"Number of Restaurant\")\n",
    "plt.show();"
   ]
  },
  {
   "cell_type": "markdown",
   "metadata": {},
   "source": [
    "# Question 1b"
   ]
  },
  {
   "cell_type": "code",
   "execution_count": 13,
   "metadata": {},
   "outputs": [],
   "source": [
    "#Take the two dataframe, one for Rest of India and other for Delhi Ncr\n",
    "df_india_roi=df_india[df_india['City']=='Rest of India']\n",
    "df_india_dn=df_india[df_india['City']=='Delhi NCR']"
   ]
  },
  {
   "cell_type": "code",
   "execution_count": 14,
   "metadata": {},
   "outputs": [
    {
     "data": {
      "text/html": [
       "<div>\n",
       "<style scoped>\n",
       "    .dataframe tbody tr th:only-of-type {\n",
       "        vertical-align: middle;\n",
       "    }\n",
       "\n",
       "    .dataframe tbody tr th {\n",
       "        vertical-align: top;\n",
       "    }\n",
       "\n",
       "    .dataframe thead th {\n",
       "        text-align: right;\n",
       "    }\n",
       "</style>\n",
       "<table border=\"1\" class=\"dataframe\">\n",
       "  <thead>\n",
       "    <tr style=\"text-align: right;\">\n",
       "      <th></th>\n",
       "      <th>Restaurant ID</th>\n",
       "      <th>Restaurant Name</th>\n",
       "      <th>Country Code</th>\n",
       "      <th>City</th>\n",
       "      <th>Address</th>\n",
       "      <th>Locality</th>\n",
       "      <th>Locality Verbose</th>\n",
       "      <th>Longitude</th>\n",
       "      <th>Latitude</th>\n",
       "      <th>Cuisines</th>\n",
       "      <th>...</th>\n",
       "      <th>Currency</th>\n",
       "      <th>Has Table booking</th>\n",
       "      <th>Has Online delivery</th>\n",
       "      <th>Is delivering now</th>\n",
       "      <th>Switch to order menu</th>\n",
       "      <th>Price range</th>\n",
       "      <th>Aggregate rating</th>\n",
       "      <th>Rating color</th>\n",
       "      <th>Rating text</th>\n",
       "      <th>Votes</th>\n",
       "    </tr>\n",
       "  </thead>\n",
       "  <tbody>\n",
       "    <tr>\n",
       "      <td>0</td>\n",
       "      <td>3400025</td>\n",
       "      <td>Jahanpanah</td>\n",
       "      <td>1</td>\n",
       "      <td>Rest of India</td>\n",
       "      <td>E 23, Shopping Arcade, Sadar Bazaar, Agra Cant...</td>\n",
       "      <td>Agra Cantt</td>\n",
       "      <td>Agra Cantt, Agra</td>\n",
       "      <td>78.011544</td>\n",
       "      <td>27.161661</td>\n",
       "      <td>North Indian, Mughlai</td>\n",
       "      <td>...</td>\n",
       "      <td>Indian Rupees(Rs.)</td>\n",
       "      <td>No</td>\n",
       "      <td>No</td>\n",
       "      <td>No</td>\n",
       "      <td>No</td>\n",
       "      <td>3</td>\n",
       "      <td>3.9</td>\n",
       "      <td>Yellow</td>\n",
       "      <td>Good</td>\n",
       "      <td>140</td>\n",
       "    </tr>\n",
       "    <tr>\n",
       "      <td>1</td>\n",
       "      <td>3400341</td>\n",
       "      <td>Rangrezz Restaurant</td>\n",
       "      <td>1</td>\n",
       "      <td>Rest of India</td>\n",
       "      <td>E-20, Shopping Arcade, Sadar Bazaar, Agra Cant...</td>\n",
       "      <td>Agra Cantt</td>\n",
       "      <td>Agra Cantt, Agra</td>\n",
       "      <td>0.000000</td>\n",
       "      <td>0.000000</td>\n",
       "      <td>North Indian, Mughlai</td>\n",
       "      <td>...</td>\n",
       "      <td>Indian Rupees(Rs.)</td>\n",
       "      <td>No</td>\n",
       "      <td>No</td>\n",
       "      <td>No</td>\n",
       "      <td>No</td>\n",
       "      <td>2</td>\n",
       "      <td>3.5</td>\n",
       "      <td>Yellow</td>\n",
       "      <td>Good</td>\n",
       "      <td>71</td>\n",
       "    </tr>\n",
       "    <tr>\n",
       "      <td>2</td>\n",
       "      <td>3400005</td>\n",
       "      <td>Time2Eat - Mama Chicken</td>\n",
       "      <td>1</td>\n",
       "      <td>Rest of India</td>\n",
       "      <td>Main Market, Sadar Bazaar, Agra Cantt, Agra</td>\n",
       "      <td>Agra Cantt</td>\n",
       "      <td>Agra Cantt, Agra</td>\n",
       "      <td>78.011608</td>\n",
       "      <td>27.160832</td>\n",
       "      <td>North Indian</td>\n",
       "      <td>...</td>\n",
       "      <td>Indian Rupees(Rs.)</td>\n",
       "      <td>No</td>\n",
       "      <td>No</td>\n",
       "      <td>No</td>\n",
       "      <td>No</td>\n",
       "      <td>2</td>\n",
       "      <td>3.6</td>\n",
       "      <td>Yellow</td>\n",
       "      <td>Good</td>\n",
       "      <td>94</td>\n",
       "    </tr>\n",
       "    <tr>\n",
       "      <td>3</td>\n",
       "      <td>3400021</td>\n",
       "      <td>Chokho Jeeman Marwari Jain Bhojanalya</td>\n",
       "      <td>1</td>\n",
       "      <td>Rest of India</td>\n",
       "      <td>1/48, Delhi Gate, Station Road, Raja Mandi, Ci...</td>\n",
       "      <td>Civil Lines</td>\n",
       "      <td>Civil Lines, Agra</td>\n",
       "      <td>77.998092</td>\n",
       "      <td>27.195928</td>\n",
       "      <td>Rajasthani</td>\n",
       "      <td>...</td>\n",
       "      <td>Indian Rupees(Rs.)</td>\n",
       "      <td>No</td>\n",
       "      <td>No</td>\n",
       "      <td>No</td>\n",
       "      <td>No</td>\n",
       "      <td>2</td>\n",
       "      <td>4.0</td>\n",
       "      <td>Green</td>\n",
       "      <td>Very Good</td>\n",
       "      <td>87</td>\n",
       "    </tr>\n",
       "    <tr>\n",
       "      <td>4</td>\n",
       "      <td>3400017</td>\n",
       "      <td>Pinch Of Spice</td>\n",
       "      <td>1</td>\n",
       "      <td>Rest of India</td>\n",
       "      <td>23/453, Opposite Sanjay Cinema, Wazipura Road,...</td>\n",
       "      <td>Civil Lines</td>\n",
       "      <td>Civil Lines, Agra</td>\n",
       "      <td>78.007553</td>\n",
       "      <td>27.201725</td>\n",
       "      <td>North Indian, Chinese, Mughlai</td>\n",
       "      <td>...</td>\n",
       "      <td>Indian Rupees(Rs.)</td>\n",
       "      <td>No</td>\n",
       "      <td>No</td>\n",
       "      <td>No</td>\n",
       "      <td>No</td>\n",
       "      <td>3</td>\n",
       "      <td>4.2</td>\n",
       "      <td>Green</td>\n",
       "      <td>Very Good</td>\n",
       "      <td>177</td>\n",
       "    </tr>\n",
       "  </tbody>\n",
       "</table>\n",
       "<p>5 rows × 21 columns</p>\n",
       "</div>"
      ],
      "text/plain": [
       "   Restaurant ID                        Restaurant Name  Country Code  \\\n",
       "0        3400025                             Jahanpanah             1   \n",
       "1        3400341                    Rangrezz Restaurant             1   \n",
       "2        3400005                Time2Eat - Mama Chicken             1   \n",
       "3        3400021  Chokho Jeeman Marwari Jain Bhojanalya             1   \n",
       "4        3400017                         Pinch Of Spice             1   \n",
       "\n",
       "            City                                            Address  \\\n",
       "0  Rest of India  E 23, Shopping Arcade, Sadar Bazaar, Agra Cant...   \n",
       "1  Rest of India  E-20, Shopping Arcade, Sadar Bazaar, Agra Cant...   \n",
       "2  Rest of India        Main Market, Sadar Bazaar, Agra Cantt, Agra   \n",
       "3  Rest of India  1/48, Delhi Gate, Station Road, Raja Mandi, Ci...   \n",
       "4  Rest of India  23/453, Opposite Sanjay Cinema, Wazipura Road,...   \n",
       "\n",
       "      Locality   Locality Verbose  Longitude   Latitude  \\\n",
       "0   Agra Cantt   Agra Cantt, Agra  78.011544  27.161661   \n",
       "1   Agra Cantt   Agra Cantt, Agra   0.000000   0.000000   \n",
       "2   Agra Cantt   Agra Cantt, Agra  78.011608  27.160832   \n",
       "3  Civil Lines  Civil Lines, Agra  77.998092  27.195928   \n",
       "4  Civil Lines  Civil Lines, Agra  78.007553  27.201725   \n",
       "\n",
       "                         Cuisines  ...            Currency Has Table booking  \\\n",
       "0           North Indian, Mughlai  ...  Indian Rupees(Rs.)                No   \n",
       "1           North Indian, Mughlai  ...  Indian Rupees(Rs.)                No   \n",
       "2                    North Indian  ...  Indian Rupees(Rs.)                No   \n",
       "3                      Rajasthani  ...  Indian Rupees(Rs.)                No   \n",
       "4  North Indian, Chinese, Mughlai  ...  Indian Rupees(Rs.)                No   \n",
       "\n",
       "  Has Online delivery Is delivering now Switch to order menu Price range  \\\n",
       "0                  No                No                   No           3   \n",
       "1                  No                No                   No           2   \n",
       "2                  No                No                   No           2   \n",
       "3                  No                No                   No           2   \n",
       "4                  No                No                   No           3   \n",
       "\n",
       "   Aggregate rating  Rating color Rating text Votes  \n",
       "0               3.9        Yellow        Good   140  \n",
       "1               3.5        Yellow        Good    71  \n",
       "2               3.6        Yellow        Good    94  \n",
       "3               4.0         Green   Very Good    87  \n",
       "4               4.2         Green   Very Good   177  \n",
       "\n",
       "[5 rows x 21 columns]"
      ]
     },
     "execution_count": 14,
     "metadata": {},
     "output_type": "execute_result"
    }
   ],
   "source": [
    "#Printing the First 5 records of the Dataframe\n",
    "df_india_roi.head()"
   ]
  },
  {
   "cell_type": "code",
   "execution_count": 15,
   "metadata": {},
   "outputs": [
    {
     "data": {
      "text/html": [
       "<div>\n",
       "<style scoped>\n",
       "    .dataframe tbody tr th:only-of-type {\n",
       "        vertical-align: middle;\n",
       "    }\n",
       "\n",
       "    .dataframe tbody tr th {\n",
       "        vertical-align: top;\n",
       "    }\n",
       "\n",
       "    .dataframe thead th {\n",
       "        text-align: right;\n",
       "    }\n",
       "</style>\n",
       "<table border=\"1\" class=\"dataframe\">\n",
       "  <thead>\n",
       "    <tr style=\"text-align: right;\">\n",
       "      <th></th>\n",
       "      <th>Restaurant ID</th>\n",
       "      <th>Restaurant Name</th>\n",
       "      <th>Country Code</th>\n",
       "      <th>City</th>\n",
       "      <th>Address</th>\n",
       "      <th>Locality</th>\n",
       "      <th>Locality Verbose</th>\n",
       "      <th>Longitude</th>\n",
       "      <th>Latitude</th>\n",
       "      <th>Cuisines</th>\n",
       "      <th>...</th>\n",
       "      <th>Currency</th>\n",
       "      <th>Has Table booking</th>\n",
       "      <th>Has Online delivery</th>\n",
       "      <th>Is delivering now</th>\n",
       "      <th>Switch to order menu</th>\n",
       "      <th>Price range</th>\n",
       "      <th>Aggregate rating</th>\n",
       "      <th>Rating color</th>\n",
       "      <th>Rating text</th>\n",
       "      <th>Votes</th>\n",
       "    </tr>\n",
       "  </thead>\n",
       "  <tbody>\n",
       "    <tr>\n",
       "      <td>241</td>\n",
       "      <td>301728</td>\n",
       "      <td>Desire Foods</td>\n",
       "      <td>1</td>\n",
       "      <td>Delhi NCR</td>\n",
       "      <td>G 25/22, Main Road, 40 Feet, Molarband Extensi...</td>\n",
       "      <td>Badarpur Border</td>\n",
       "      <td>Badarpur Border, Faridabad</td>\n",
       "      <td>77.306640</td>\n",
       "      <td>28.490059</td>\n",
       "      <td>Chinese, Fast Food, Bakery</td>\n",
       "      <td>...</td>\n",
       "      <td>Indian Rupees(Rs.)</td>\n",
       "      <td>No</td>\n",
       "      <td>No</td>\n",
       "      <td>No</td>\n",
       "      <td>No</td>\n",
       "      <td>1</td>\n",
       "      <td>2.9</td>\n",
       "      <td>Orange</td>\n",
       "      <td>Average</td>\n",
       "      <td>4</td>\n",
       "    </tr>\n",
       "    <tr>\n",
       "      <td>242</td>\n",
       "      <td>5992</td>\n",
       "      <td>Knight Rock</td>\n",
       "      <td>1</td>\n",
       "      <td>Delhi NCR</td>\n",
       "      <td>11/6, Delhi Mathura Road, Near Bharat Petrol P...</td>\n",
       "      <td>Badarpur Border</td>\n",
       "      <td>Badarpur Border, Faridabad</td>\n",
       "      <td>77.304776</td>\n",
       "      <td>28.490157</td>\n",
       "      <td>North Indian, Chinese</td>\n",
       "      <td>...</td>\n",
       "      <td>Indian Rupees(Rs.)</td>\n",
       "      <td>No</td>\n",
       "      <td>No</td>\n",
       "      <td>No</td>\n",
       "      <td>No</td>\n",
       "      <td>2</td>\n",
       "      <td>2.8</td>\n",
       "      <td>Orange</td>\n",
       "      <td>Average</td>\n",
       "      <td>16</td>\n",
       "    </tr>\n",
       "    <tr>\n",
       "      <td>243</td>\n",
       "      <td>301730</td>\n",
       "      <td>Punjab Restaurant</td>\n",
       "      <td>1</td>\n",
       "      <td>Delhi NCR</td>\n",
       "      <td>Main 40 Feet Road, Molarband Extension, Badarp...</td>\n",
       "      <td>Badarpur Border</td>\n",
       "      <td>Badarpur Border, Faridabad</td>\n",
       "      <td>77.305563</td>\n",
       "      <td>28.490137</td>\n",
       "      <td>North Indian</td>\n",
       "      <td>...</td>\n",
       "      <td>Indian Rupees(Rs.)</td>\n",
       "      <td>No</td>\n",
       "      <td>No</td>\n",
       "      <td>No</td>\n",
       "      <td>No</td>\n",
       "      <td>1</td>\n",
       "      <td>2.8</td>\n",
       "      <td>Orange</td>\n",
       "      <td>Average</td>\n",
       "      <td>8</td>\n",
       "    </tr>\n",
       "    <tr>\n",
       "      <td>244</td>\n",
       "      <td>301729</td>\n",
       "      <td>Raju Dhaba</td>\n",
       "      <td>1</td>\n",
       "      <td>Delhi NCR</td>\n",
       "      <td>Main 40 Feet Road, Molarband Extension, Badarp...</td>\n",
       "      <td>Badarpur Border</td>\n",
       "      <td>Badarpur Border, Faridabad</td>\n",
       "      <td>77.306102</td>\n",
       "      <td>28.490098</td>\n",
       "      <td>North Indian</td>\n",
       "      <td>...</td>\n",
       "      <td>Indian Rupees(Rs.)</td>\n",
       "      <td>No</td>\n",
       "      <td>No</td>\n",
       "      <td>No</td>\n",
       "      <td>No</td>\n",
       "      <td>1</td>\n",
       "      <td>2.9</td>\n",
       "      <td>Orange</td>\n",
       "      <td>Average</td>\n",
       "      <td>8</td>\n",
       "    </tr>\n",
       "    <tr>\n",
       "      <td>245</td>\n",
       "      <td>301731</td>\n",
       "      <td>Rakheja Bakery</td>\n",
       "      <td>1</td>\n",
       "      <td>Delhi NCR</td>\n",
       "      <td>Main 40 Feet Road, Molarband Extension, Badarp...</td>\n",
       "      <td>Badarpur Border</td>\n",
       "      <td>Badarpur Border, Faridabad</td>\n",
       "      <td>77.305745</td>\n",
       "      <td>28.490062</td>\n",
       "      <td>Bakery</td>\n",
       "      <td>...</td>\n",
       "      <td>Indian Rupees(Rs.)</td>\n",
       "      <td>No</td>\n",
       "      <td>No</td>\n",
       "      <td>No</td>\n",
       "      <td>No</td>\n",
       "      <td>1</td>\n",
       "      <td>2.8</td>\n",
       "      <td>Orange</td>\n",
       "      <td>Average</td>\n",
       "      <td>7</td>\n",
       "    </tr>\n",
       "  </tbody>\n",
       "</table>\n",
       "<p>5 rows × 21 columns</p>\n",
       "</div>"
      ],
      "text/plain": [
       "     Restaurant ID    Restaurant Name  Country Code       City  \\\n",
       "241         301728       Desire Foods             1  Delhi NCR   \n",
       "242           5992        Knight Rock             1  Delhi NCR   \n",
       "243         301730  Punjab Restaurant             1  Delhi NCR   \n",
       "244         301729         Raju Dhaba             1  Delhi NCR   \n",
       "245         301731     Rakheja Bakery             1  Delhi NCR   \n",
       "\n",
       "                                               Address         Locality  \\\n",
       "241  G 25/22, Main Road, 40 Feet, Molarband Extensi...  Badarpur Border   \n",
       "242  11/6, Delhi Mathura Road, Near Bharat Petrol P...  Badarpur Border   \n",
       "243  Main 40 Feet Road, Molarband Extension, Badarp...  Badarpur Border   \n",
       "244  Main 40 Feet Road, Molarband Extension, Badarp...  Badarpur Border   \n",
       "245  Main 40 Feet Road, Molarband Extension, Badarp...  Badarpur Border   \n",
       "\n",
       "               Locality Verbose  Longitude   Latitude  \\\n",
       "241  Badarpur Border, Faridabad  77.306640  28.490059   \n",
       "242  Badarpur Border, Faridabad  77.304776  28.490157   \n",
       "243  Badarpur Border, Faridabad  77.305563  28.490137   \n",
       "244  Badarpur Border, Faridabad  77.306102  28.490098   \n",
       "245  Badarpur Border, Faridabad  77.305745  28.490062   \n",
       "\n",
       "                       Cuisines  ...            Currency Has Table booking  \\\n",
       "241  Chinese, Fast Food, Bakery  ...  Indian Rupees(Rs.)                No   \n",
       "242       North Indian, Chinese  ...  Indian Rupees(Rs.)                No   \n",
       "243                North Indian  ...  Indian Rupees(Rs.)                No   \n",
       "244                North Indian  ...  Indian Rupees(Rs.)                No   \n",
       "245                      Bakery  ...  Indian Rupees(Rs.)                No   \n",
       "\n",
       "    Has Online delivery Is delivering now Switch to order menu Price range  \\\n",
       "241                  No                No                   No           1   \n",
       "242                  No                No                   No           2   \n",
       "243                  No                No                   No           1   \n",
       "244                  No                No                   No           1   \n",
       "245                  No                No                   No           1   \n",
       "\n",
       "     Aggregate rating  Rating color Rating text Votes  \n",
       "241               2.9        Orange     Average     4  \n",
       "242               2.8        Orange     Average    16  \n",
       "243               2.8        Orange     Average     8  \n",
       "244               2.9        Orange     Average     8  \n",
       "245               2.8        Orange     Average     7  \n",
       "\n",
       "[5 rows x 21 columns]"
      ]
     },
     "execution_count": 15,
     "metadata": {},
     "output_type": "execute_result"
    }
   ],
   "source": [
    "#Printing the First 5 records of the Dataframe\n",
    "df_india_dn.head()"
   ]
  },
  {
   "cell_type": "code",
   "execution_count": 16,
   "metadata": {},
   "outputs": [
    {
     "data": {
      "text/plain": [
       "array(['North Indian, Mughlai', 'North Indian', 'Rajasthani',\n",
       "       'North Indian, Chinese, Mughlai', 'North Indian, European',\n",
       "       'Mughlai', 'Rajasthani, Gujarati, Mughlai',\n",
       "       'North Indian, Chinese, Continental', 'South Indian, Desserts',\n",
       "       'North Indian, Chinese, Continental, Mughlai'], dtype=object)"
      ]
     },
     "execution_count": 16,
     "metadata": {},
     "output_type": "execute_result"
    }
   ],
   "source": [
    "#Checking the unique Cuisines that are present in Rest of India Dataframe\n",
    "'''Printing the first 10 Cuisines names'''\n",
    "df_india_roi['Cuisines'].unique()[0:10]"
   ]
  },
  {
   "cell_type": "code",
   "execution_count": 17,
   "metadata": {},
   "outputs": [],
   "source": [
    "'''Function to extract the Cuisines from the Dataframe'''\n",
    "def cuisines(arr):\n",
    "    list_1=[]\n",
    "    for i in arr:\n",
    "        if ',' not in i:\n",
    "            if i in list_1:\n",
    "                continue\n",
    "            else:\n",
    "                list_1.append(i)\n",
    "        else:\n",
    "            string=i.strip().split(',')\n",
    "            for j in string:\n",
    "                if j.strip() in list_1:\n",
    "                    continue\n",
    "                elif j.strip()!=\"\":\n",
    "                    list_1.append(j.strip())\n",
    "    return list_1"
   ]
  },
  {
   "cell_type": "code",
   "execution_count": 18,
   "metadata": {},
   "outputs": [],
   "source": [
    "#Calling the above function and storing the value\n",
    "cuisines_roi=cuisines(df_india_roi['Cuisines'])\n",
    "cuisines_dn=cuisines(df_india_dn['Cuisines'])"
   ]
  },
  {
   "cell_type": "code",
   "execution_count": 19,
   "metadata": {},
   "outputs": [
    {
     "data": {
      "text/plain": [
       "['North Indian',\n",
       " 'Mughlai',\n",
       " 'Rajasthani',\n",
       " 'Chinese',\n",
       " 'European',\n",
       " 'Gujarati',\n",
       " 'Continental',\n",
       " 'South Indian',\n",
       " 'Desserts',\n",
       " 'Cafe']"
      ]
     },
     "execution_count": 19,
     "metadata": {},
     "output_type": "execute_result"
    }
   ],
   "source": [
    "#Cuisines that are present in Rest of India\n",
    "'''Printing the First 10 names of the Cuisines'''\n",
    "cuisines_roi[0:10]"
   ]
  },
  {
   "cell_type": "code",
   "execution_count": 20,
   "metadata": {},
   "outputs": [
    {
     "data": {
      "text/plain": [
       "['Chinese',\n",
       " 'Fast Food',\n",
       " 'Bakery',\n",
       " 'North Indian',\n",
       " 'Mithai',\n",
       " 'Mughlai',\n",
       " 'Cafe',\n",
       " 'Raw Meats',\n",
       " 'Burger',\n",
       " 'South Indian']"
      ]
     },
     "execution_count": 20,
     "metadata": {},
     "output_type": "execute_result"
    }
   ],
   "source": [
    "#Cuisines that are present in Delhi NCR\n",
    "'''Printing the First 10 names of the Cuisines'''\n",
    "cuisines_dn[0:10]"
   ]
  },
  {
   "cell_type": "code",
   "execution_count": 21,
   "metadata": {},
   "outputs": [],
   "source": [
    "#Checking the Cuisines that are not present in Delhi NCR but are present in Rest of India \n",
    "not_in_ncr=[]\n",
    "for i in cuisines_roi:\n",
    "    if i not in cuisines_dn:\n",
    "        not_in_ncr.append(i)"
   ]
  },
  {
   "cell_type": "code",
   "execution_count": 22,
   "metadata": {},
   "outputs": [
    {
     "data": {
      "text/plain": [
       "['German', 'Malwani', 'BBQ', 'Cajun']"
      ]
     },
     "execution_count": 22,
     "metadata": {},
     "output_type": "execute_result"
    }
   ],
   "source": [
    "'''List of Cuisines that are not present in Delhi NCR'''\n",
    "not_in_ncr"
   ]
  },
  {
   "cell_type": "markdown",
   "metadata": {},
   "source": [
    "# Question 1c"
   ]
  },
  {
   "cell_type": "code",
   "execution_count": 23,
   "metadata": {},
   "outputs": [
    {
     "data": {
      "text/html": [
       "<div>\n",
       "<style scoped>\n",
       "    .dataframe tbody tr th:only-of-type {\n",
       "        vertical-align: middle;\n",
       "    }\n",
       "\n",
       "    .dataframe tbody tr th {\n",
       "        vertical-align: top;\n",
       "    }\n",
       "\n",
       "    .dataframe thead th {\n",
       "        text-align: right;\n",
       "    }\n",
       "</style>\n",
       "<table border=\"1\" class=\"dataframe\">\n",
       "  <thead>\n",
       "    <tr style=\"text-align: right;\">\n",
       "      <th></th>\n",
       "      <th>Restaurant ID</th>\n",
       "      <th>Restaurant Name</th>\n",
       "      <th>Country Code</th>\n",
       "      <th>City</th>\n",
       "      <th>Address</th>\n",
       "      <th>Locality</th>\n",
       "      <th>Locality Verbose</th>\n",
       "      <th>Longitude</th>\n",
       "      <th>Latitude</th>\n",
       "      <th>Cuisines</th>\n",
       "      <th>...</th>\n",
       "      <th>Currency</th>\n",
       "      <th>Has Table booking</th>\n",
       "      <th>Has Online delivery</th>\n",
       "      <th>Is delivering now</th>\n",
       "      <th>Switch to order menu</th>\n",
       "      <th>Price range</th>\n",
       "      <th>Aggregate rating</th>\n",
       "      <th>Rating color</th>\n",
       "      <th>Rating text</th>\n",
       "      <th>Votes</th>\n",
       "    </tr>\n",
       "  </thead>\n",
       "  <tbody>\n",
       "    <tr>\n",
       "      <td>0</td>\n",
       "      <td>3400025</td>\n",
       "      <td>Jahanpanah</td>\n",
       "      <td>1</td>\n",
       "      <td>Rest of India</td>\n",
       "      <td>E 23, Shopping Arcade, Sadar Bazaar, Agra Cant...</td>\n",
       "      <td>Agra Cantt</td>\n",
       "      <td>Agra Cantt, Agra</td>\n",
       "      <td>78.011544</td>\n",
       "      <td>27.161661</td>\n",
       "      <td>North Indian, Mughlai</td>\n",
       "      <td>...</td>\n",
       "      <td>Indian Rupees(Rs.)</td>\n",
       "      <td>No</td>\n",
       "      <td>No</td>\n",
       "      <td>No</td>\n",
       "      <td>No</td>\n",
       "      <td>3</td>\n",
       "      <td>3.9</td>\n",
       "      <td>Yellow</td>\n",
       "      <td>Good</td>\n",
       "      <td>140</td>\n",
       "    </tr>\n",
       "    <tr>\n",
       "      <td>1</td>\n",
       "      <td>3400341</td>\n",
       "      <td>Rangrezz Restaurant</td>\n",
       "      <td>1</td>\n",
       "      <td>Rest of India</td>\n",
       "      <td>E-20, Shopping Arcade, Sadar Bazaar, Agra Cant...</td>\n",
       "      <td>Agra Cantt</td>\n",
       "      <td>Agra Cantt, Agra</td>\n",
       "      <td>0.000000</td>\n",
       "      <td>0.000000</td>\n",
       "      <td>North Indian, Mughlai</td>\n",
       "      <td>...</td>\n",
       "      <td>Indian Rupees(Rs.)</td>\n",
       "      <td>No</td>\n",
       "      <td>No</td>\n",
       "      <td>No</td>\n",
       "      <td>No</td>\n",
       "      <td>2</td>\n",
       "      <td>3.5</td>\n",
       "      <td>Yellow</td>\n",
       "      <td>Good</td>\n",
       "      <td>71</td>\n",
       "    </tr>\n",
       "    <tr>\n",
       "      <td>2</td>\n",
       "      <td>3400005</td>\n",
       "      <td>Time2Eat - Mama Chicken</td>\n",
       "      <td>1</td>\n",
       "      <td>Rest of India</td>\n",
       "      <td>Main Market, Sadar Bazaar, Agra Cantt, Agra</td>\n",
       "      <td>Agra Cantt</td>\n",
       "      <td>Agra Cantt, Agra</td>\n",
       "      <td>78.011608</td>\n",
       "      <td>27.160832</td>\n",
       "      <td>North Indian</td>\n",
       "      <td>...</td>\n",
       "      <td>Indian Rupees(Rs.)</td>\n",
       "      <td>No</td>\n",
       "      <td>No</td>\n",
       "      <td>No</td>\n",
       "      <td>No</td>\n",
       "      <td>2</td>\n",
       "      <td>3.6</td>\n",
       "      <td>Yellow</td>\n",
       "      <td>Good</td>\n",
       "      <td>94</td>\n",
       "    </tr>\n",
       "    <tr>\n",
       "      <td>3</td>\n",
       "      <td>3400021</td>\n",
       "      <td>Chokho Jeeman Marwari Jain Bhojanalya</td>\n",
       "      <td>1</td>\n",
       "      <td>Rest of India</td>\n",
       "      <td>1/48, Delhi Gate, Station Road, Raja Mandi, Ci...</td>\n",
       "      <td>Civil Lines</td>\n",
       "      <td>Civil Lines, Agra</td>\n",
       "      <td>77.998092</td>\n",
       "      <td>27.195928</td>\n",
       "      <td>Rajasthani</td>\n",
       "      <td>...</td>\n",
       "      <td>Indian Rupees(Rs.)</td>\n",
       "      <td>No</td>\n",
       "      <td>No</td>\n",
       "      <td>No</td>\n",
       "      <td>No</td>\n",
       "      <td>2</td>\n",
       "      <td>4.0</td>\n",
       "      <td>Green</td>\n",
       "      <td>Very Good</td>\n",
       "      <td>87</td>\n",
       "    </tr>\n",
       "    <tr>\n",
       "      <td>4</td>\n",
       "      <td>3400017</td>\n",
       "      <td>Pinch Of Spice</td>\n",
       "      <td>1</td>\n",
       "      <td>Rest of India</td>\n",
       "      <td>23/453, Opposite Sanjay Cinema, Wazipura Road,...</td>\n",
       "      <td>Civil Lines</td>\n",
       "      <td>Civil Lines, Agra</td>\n",
       "      <td>78.007553</td>\n",
       "      <td>27.201725</td>\n",
       "      <td>North Indian, Chinese, Mughlai</td>\n",
       "      <td>...</td>\n",
       "      <td>Indian Rupees(Rs.)</td>\n",
       "      <td>No</td>\n",
       "      <td>No</td>\n",
       "      <td>No</td>\n",
       "      <td>No</td>\n",
       "      <td>3</td>\n",
       "      <td>4.2</td>\n",
       "      <td>Green</td>\n",
       "      <td>Very Good</td>\n",
       "      <td>177</td>\n",
       "    </tr>\n",
       "  </tbody>\n",
       "</table>\n",
       "<p>5 rows × 21 columns</p>\n",
       "</div>"
      ],
      "text/plain": [
       "   Restaurant ID                        Restaurant Name  Country Code  \\\n",
       "0        3400025                             Jahanpanah             1   \n",
       "1        3400341                    Rangrezz Restaurant             1   \n",
       "2        3400005                Time2Eat - Mama Chicken             1   \n",
       "3        3400021  Chokho Jeeman Marwari Jain Bhojanalya             1   \n",
       "4        3400017                         Pinch Of Spice             1   \n",
       "\n",
       "            City                                            Address  \\\n",
       "0  Rest of India  E 23, Shopping Arcade, Sadar Bazaar, Agra Cant...   \n",
       "1  Rest of India  E-20, Shopping Arcade, Sadar Bazaar, Agra Cant...   \n",
       "2  Rest of India        Main Market, Sadar Bazaar, Agra Cantt, Agra   \n",
       "3  Rest of India  1/48, Delhi Gate, Station Road, Raja Mandi, Ci...   \n",
       "4  Rest of India  23/453, Opposite Sanjay Cinema, Wazipura Road,...   \n",
       "\n",
       "      Locality   Locality Verbose  Longitude   Latitude  \\\n",
       "0   Agra Cantt   Agra Cantt, Agra  78.011544  27.161661   \n",
       "1   Agra Cantt   Agra Cantt, Agra   0.000000   0.000000   \n",
       "2   Agra Cantt   Agra Cantt, Agra  78.011608  27.160832   \n",
       "3  Civil Lines  Civil Lines, Agra  77.998092  27.195928   \n",
       "4  Civil Lines  Civil Lines, Agra  78.007553  27.201725   \n",
       "\n",
       "                         Cuisines  ...            Currency Has Table booking  \\\n",
       "0           North Indian, Mughlai  ...  Indian Rupees(Rs.)                No   \n",
       "1           North Indian, Mughlai  ...  Indian Rupees(Rs.)                No   \n",
       "2                    North Indian  ...  Indian Rupees(Rs.)                No   \n",
       "3                      Rajasthani  ...  Indian Rupees(Rs.)                No   \n",
       "4  North Indian, Chinese, Mughlai  ...  Indian Rupees(Rs.)                No   \n",
       "\n",
       "  Has Online delivery Is delivering now Switch to order menu Price range  \\\n",
       "0                  No                No                   No           3   \n",
       "1                  No                No                   No           2   \n",
       "2                  No                No                   No           2   \n",
       "3                  No                No                   No           2   \n",
       "4                  No                No                   No           3   \n",
       "\n",
       "   Aggregate rating  Rating color Rating text Votes  \n",
       "0               3.9        Yellow        Good   140  \n",
       "1               3.5        Yellow        Good    71  \n",
       "2               3.6        Yellow        Good    94  \n",
       "3               4.0         Green   Very Good    87  \n",
       "4               4.2         Green   Very Good   177  \n",
       "\n",
       "[5 rows x 21 columns]"
      ]
     },
     "execution_count": 23,
     "metadata": {},
     "output_type": "execute_result"
    }
   ],
   "source": [
    "#Printing the First 5 records from the Rest of India Dataframe\n",
    "df_india_roi.head()"
   ]
  },
  {
   "cell_type": "code",
   "execution_count": 24,
   "metadata": {},
   "outputs": [
    {
     "data": {
      "text/html": [
       "<div>\n",
       "<style scoped>\n",
       "    .dataframe tbody tr th:only-of-type {\n",
       "        vertical-align: middle;\n",
       "    }\n",
       "\n",
       "    .dataframe tbody tr th {\n",
       "        vertical-align: top;\n",
       "    }\n",
       "\n",
       "    .dataframe thead th {\n",
       "        text-align: right;\n",
       "    }\n",
       "</style>\n",
       "<table border=\"1\" class=\"dataframe\">\n",
       "  <thead>\n",
       "    <tr style=\"text-align: right;\">\n",
       "      <th></th>\n",
       "      <th>Restaurant ID</th>\n",
       "      <th>Restaurant Name</th>\n",
       "      <th>Country Code</th>\n",
       "      <th>City</th>\n",
       "      <th>Address</th>\n",
       "      <th>Locality</th>\n",
       "      <th>Locality Verbose</th>\n",
       "      <th>Longitude</th>\n",
       "      <th>Latitude</th>\n",
       "      <th>Cuisines</th>\n",
       "      <th>...</th>\n",
       "      <th>Currency</th>\n",
       "      <th>Has Table booking</th>\n",
       "      <th>Has Online delivery</th>\n",
       "      <th>Is delivering now</th>\n",
       "      <th>Switch to order menu</th>\n",
       "      <th>Price range</th>\n",
       "      <th>Aggregate rating</th>\n",
       "      <th>Rating color</th>\n",
       "      <th>Rating text</th>\n",
       "      <th>Votes</th>\n",
       "    </tr>\n",
       "  </thead>\n",
       "  <tbody>\n",
       "    <tr>\n",
       "      <td>241</td>\n",
       "      <td>301728</td>\n",
       "      <td>Desire Foods</td>\n",
       "      <td>1</td>\n",
       "      <td>Delhi NCR</td>\n",
       "      <td>G 25/22, Main Road, 40 Feet, Molarband Extensi...</td>\n",
       "      <td>Badarpur Border</td>\n",
       "      <td>Badarpur Border, Faridabad</td>\n",
       "      <td>77.306640</td>\n",
       "      <td>28.490059</td>\n",
       "      <td>Chinese, Fast Food, Bakery</td>\n",
       "      <td>...</td>\n",
       "      <td>Indian Rupees(Rs.)</td>\n",
       "      <td>No</td>\n",
       "      <td>No</td>\n",
       "      <td>No</td>\n",
       "      <td>No</td>\n",
       "      <td>1</td>\n",
       "      <td>2.9</td>\n",
       "      <td>Orange</td>\n",
       "      <td>Average</td>\n",
       "      <td>4</td>\n",
       "    </tr>\n",
       "    <tr>\n",
       "      <td>242</td>\n",
       "      <td>5992</td>\n",
       "      <td>Knight Rock</td>\n",
       "      <td>1</td>\n",
       "      <td>Delhi NCR</td>\n",
       "      <td>11/6, Delhi Mathura Road, Near Bharat Petrol P...</td>\n",
       "      <td>Badarpur Border</td>\n",
       "      <td>Badarpur Border, Faridabad</td>\n",
       "      <td>77.304776</td>\n",
       "      <td>28.490157</td>\n",
       "      <td>North Indian, Chinese</td>\n",
       "      <td>...</td>\n",
       "      <td>Indian Rupees(Rs.)</td>\n",
       "      <td>No</td>\n",
       "      <td>No</td>\n",
       "      <td>No</td>\n",
       "      <td>No</td>\n",
       "      <td>2</td>\n",
       "      <td>2.8</td>\n",
       "      <td>Orange</td>\n",
       "      <td>Average</td>\n",
       "      <td>16</td>\n",
       "    </tr>\n",
       "    <tr>\n",
       "      <td>243</td>\n",
       "      <td>301730</td>\n",
       "      <td>Punjab Restaurant</td>\n",
       "      <td>1</td>\n",
       "      <td>Delhi NCR</td>\n",
       "      <td>Main 40 Feet Road, Molarband Extension, Badarp...</td>\n",
       "      <td>Badarpur Border</td>\n",
       "      <td>Badarpur Border, Faridabad</td>\n",
       "      <td>77.305563</td>\n",
       "      <td>28.490137</td>\n",
       "      <td>North Indian</td>\n",
       "      <td>...</td>\n",
       "      <td>Indian Rupees(Rs.)</td>\n",
       "      <td>No</td>\n",
       "      <td>No</td>\n",
       "      <td>No</td>\n",
       "      <td>No</td>\n",
       "      <td>1</td>\n",
       "      <td>2.8</td>\n",
       "      <td>Orange</td>\n",
       "      <td>Average</td>\n",
       "      <td>8</td>\n",
       "    </tr>\n",
       "    <tr>\n",
       "      <td>244</td>\n",
       "      <td>301729</td>\n",
       "      <td>Raju Dhaba</td>\n",
       "      <td>1</td>\n",
       "      <td>Delhi NCR</td>\n",
       "      <td>Main 40 Feet Road, Molarband Extension, Badarp...</td>\n",
       "      <td>Badarpur Border</td>\n",
       "      <td>Badarpur Border, Faridabad</td>\n",
       "      <td>77.306102</td>\n",
       "      <td>28.490098</td>\n",
       "      <td>North Indian</td>\n",
       "      <td>...</td>\n",
       "      <td>Indian Rupees(Rs.)</td>\n",
       "      <td>No</td>\n",
       "      <td>No</td>\n",
       "      <td>No</td>\n",
       "      <td>No</td>\n",
       "      <td>1</td>\n",
       "      <td>2.9</td>\n",
       "      <td>Orange</td>\n",
       "      <td>Average</td>\n",
       "      <td>8</td>\n",
       "    </tr>\n",
       "    <tr>\n",
       "      <td>245</td>\n",
       "      <td>301731</td>\n",
       "      <td>Rakheja Bakery</td>\n",
       "      <td>1</td>\n",
       "      <td>Delhi NCR</td>\n",
       "      <td>Main 40 Feet Road, Molarband Extension, Badarp...</td>\n",
       "      <td>Badarpur Border</td>\n",
       "      <td>Badarpur Border, Faridabad</td>\n",
       "      <td>77.305745</td>\n",
       "      <td>28.490062</td>\n",
       "      <td>Bakery</td>\n",
       "      <td>...</td>\n",
       "      <td>Indian Rupees(Rs.)</td>\n",
       "      <td>No</td>\n",
       "      <td>No</td>\n",
       "      <td>No</td>\n",
       "      <td>No</td>\n",
       "      <td>1</td>\n",
       "      <td>2.8</td>\n",
       "      <td>Orange</td>\n",
       "      <td>Average</td>\n",
       "      <td>7</td>\n",
       "    </tr>\n",
       "  </tbody>\n",
       "</table>\n",
       "<p>5 rows × 21 columns</p>\n",
       "</div>"
      ],
      "text/plain": [
       "     Restaurant ID    Restaurant Name  Country Code       City  \\\n",
       "241         301728       Desire Foods             1  Delhi NCR   \n",
       "242           5992        Knight Rock             1  Delhi NCR   \n",
       "243         301730  Punjab Restaurant             1  Delhi NCR   \n",
       "244         301729         Raju Dhaba             1  Delhi NCR   \n",
       "245         301731     Rakheja Bakery             1  Delhi NCR   \n",
       "\n",
       "                                               Address         Locality  \\\n",
       "241  G 25/22, Main Road, 40 Feet, Molarband Extensi...  Badarpur Border   \n",
       "242  11/6, Delhi Mathura Road, Near Bharat Petrol P...  Badarpur Border   \n",
       "243  Main 40 Feet Road, Molarband Extension, Badarp...  Badarpur Border   \n",
       "244  Main 40 Feet Road, Molarband Extension, Badarp...  Badarpur Border   \n",
       "245  Main 40 Feet Road, Molarband Extension, Badarp...  Badarpur Border   \n",
       "\n",
       "               Locality Verbose  Longitude   Latitude  \\\n",
       "241  Badarpur Border, Faridabad  77.306640  28.490059   \n",
       "242  Badarpur Border, Faridabad  77.304776  28.490157   \n",
       "243  Badarpur Border, Faridabad  77.305563  28.490137   \n",
       "244  Badarpur Border, Faridabad  77.306102  28.490098   \n",
       "245  Badarpur Border, Faridabad  77.305745  28.490062   \n",
       "\n",
       "                       Cuisines  ...            Currency Has Table booking  \\\n",
       "241  Chinese, Fast Food, Bakery  ...  Indian Rupees(Rs.)                No   \n",
       "242       North Indian, Chinese  ...  Indian Rupees(Rs.)                No   \n",
       "243                North Indian  ...  Indian Rupees(Rs.)                No   \n",
       "244                North Indian  ...  Indian Rupees(Rs.)                No   \n",
       "245                      Bakery  ...  Indian Rupees(Rs.)                No   \n",
       "\n",
       "    Has Online delivery Is delivering now Switch to order menu Price range  \\\n",
       "241                  No                No                   No           1   \n",
       "242                  No                No                   No           2   \n",
       "243                  No                No                   No           1   \n",
       "244                  No                No                   No           1   \n",
       "245                  No                No                   No           1   \n",
       "\n",
       "     Aggregate rating  Rating color Rating text Votes  \n",
       "241               2.9        Orange     Average     4  \n",
       "242               2.8        Orange     Average    16  \n",
       "243               2.8        Orange     Average     8  \n",
       "244               2.9        Orange     Average     8  \n",
       "245               2.8        Orange     Average     7  \n",
       "\n",
       "[5 rows x 21 columns]"
      ]
     },
     "execution_count": 24,
     "metadata": {},
     "output_type": "execute_result"
    }
   ],
   "source": [
    "#Printing the First 5 records from the Delhi NCR Dataframe\n",
    "df_india_dn.head()"
   ]
  },
  {
   "cell_type": "code",
   "execution_count": 25,
   "metadata": {},
   "outputs": [
    {
     "data": {
      "text/plain": [
       "['Chinese',\n",
       " 'Fast Food',\n",
       " 'Bakery',\n",
       " 'North Indian',\n",
       " 'Mithai',\n",
       " 'Mughlai',\n",
       " 'Cafe',\n",
       " 'Raw Meats',\n",
       " 'Burger',\n",
       " 'South Indian']"
      ]
     },
     "execution_count": 25,
     "metadata": {},
     "output_type": "execute_result"
    }
   ],
   "source": [
    "#List of First 10 Cusinies in Delhi NCR\n",
    "cuisines_dn[0:10]"
   ]
  },
  {
   "cell_type": "code",
   "execution_count": 26,
   "metadata": {},
   "outputs": [
    {
     "data": {
      "text/plain": [
       "['North Indian',\n",
       " 'Mughlai',\n",
       " 'Rajasthani',\n",
       " 'Chinese',\n",
       " 'European',\n",
       " 'Gujarati',\n",
       " 'Continental',\n",
       " 'South Indian',\n",
       " 'Desserts',\n",
       " 'Cafe']"
      ]
     },
     "execution_count": 26,
     "metadata": {},
     "output_type": "execute_result"
    }
   ],
   "source": [
    "#List of First 10 Cusinies in Rest of India Dataframe\n",
    "cuisines_roi[0:10]"
   ]
  },
  {
   "cell_type": "code",
   "execution_count": 27,
   "metadata": {},
   "outputs": [],
   "source": [
    "#Function to Return Dictionary \n",
    "'''Key contains the name of the Cuisines and value contain the No. of Resturant Serving the Cuisines'''\n",
    "def cuisines(arr):\n",
    "    list_1={}\n",
    "    for i in arr:\n",
    "        if ',' not in i:\n",
    "            if i in list_1:\n",
    "                list_1[i]+=1\n",
    "            else:\n",
    "                list_1[i]=1\n",
    "        else:\n",
    "            string=i.strip().split(',')\n",
    "            for j in string:\n",
    "                if j.strip() in list_1:\n",
    "                    list_1[j.strip()]+=1\n",
    "                elif j.strip()!=\"\":\n",
    "                    list_1[j.strip()]=1\n",
    "    return list_1"
   ]
  },
  {
   "cell_type": "code",
   "execution_count": 28,
   "metadata": {},
   "outputs": [],
   "source": [
    "#Getting the Dictionary for the Rest of India \n",
    "top_cuisines_roi=cuisines(df_india_roi['Cuisines'])"
   ]
  },
  {
   "cell_type": "code",
   "execution_count": 29,
   "metadata": {},
   "outputs": [
    {
     "data": {
      "text/plain": [
       "{'North Indian': 349,\n",
       " 'Mughlai': 59,\n",
       " 'Rajasthani': 6,\n",
       " 'Chinese': 242,\n",
       " 'European': 32,\n",
       " 'Gujarati': 3,\n",
       " 'Continental': 177,\n",
       " 'South Indian': 62,\n",
       " 'Desserts': 55,\n",
       " 'Cafe': 136,\n",
       " 'Italian': 147,\n",
       " 'Mexican': 50,\n",
       " 'Pizza': 31,\n",
       " 'Fast Food': 97,\n",
       " 'Mediterranean': 30,\n",
       " 'Thai': 29,\n",
       " 'Ice Cream': 6,\n",
       " 'Beverages': 12,\n",
       " 'Asian': 35,\n",
       " 'Street Food': 16,\n",
       " 'Sandwich': 1,\n",
       " 'Burger': 13,\n",
       " 'Healthy Food': 3,\n",
       " 'American': 32,\n",
       " 'Armenian': 1,\n",
       " 'Salad': 3,\n",
       " 'Bakery': 29,\n",
       " 'Mithai': 1,\n",
       " 'Biryani': 15,\n",
       " 'Juices': 3,\n",
       " 'Maharashtrian': 4,\n",
       " 'Hyderabadi': 2,\n",
       " 'Modern Indian': 7,\n",
       " 'Finger Food': 17,\n",
       " 'Tex-Mex': 7,\n",
       " 'Arabian': 5,\n",
       " 'Charcoal Grill': 3,\n",
       " 'Steak': 1,\n",
       " 'Seafood': 28,\n",
       " 'Tea': 6,\n",
       " 'Japanese': 7,\n",
       " 'Malaysian': 3,\n",
       " 'Burmese': 4,\n",
       " 'Chettinad': 3,\n",
       " 'Spanish': 2,\n",
       " 'Greek': 3,\n",
       " 'Indian': 2,\n",
       " 'Parsi': 1,\n",
       " 'Tibetan': 3,\n",
       " 'French': 6,\n",
       " 'Goan': 13,\n",
       " 'German': 2,\n",
       " 'Andhra': 7,\n",
       " 'Bengali': 2,\n",
       " 'Awadhi': 1,\n",
       " 'Lebanese': 8,\n",
       " 'Kerala': 7,\n",
       " 'Middle Eastern': 2,\n",
       " 'Lucknowi': 1,\n",
       " 'Portuguese': 1,\n",
       " 'African': 1,\n",
       " 'Mangalorean': 3,\n",
       " 'British': 1,\n",
       " 'Malwani': 1,\n",
       " 'Vietnamese': 2,\n",
       " 'Korean': 1,\n",
       " 'Indonesian': 2,\n",
       " 'North Eastern': 1,\n",
       " 'BBQ': 1,\n",
       " 'Cajun': 1}"
      ]
     },
     "execution_count": 29,
     "metadata": {},
     "output_type": "execute_result"
    }
   ],
   "source": [
    "#Print the Dictionary\n",
    "top_cuisines_roi"
   ]
  },
  {
   "cell_type": "code",
   "execution_count": 30,
   "metadata": {},
   "outputs": [],
   "source": [
    "#Getting the Dictionary for the Delhi NCR\n",
    "top_cuisines_dn=cuisines(df_india_dn['Cuisines'])"
   ]
  },
  {
   "cell_type": "code",
   "execution_count": 31,
   "metadata": {},
   "outputs": [
    {
     "data": {
      "text/plain": [
       "{'Chinese': 2448,\n",
       " 'Fast Food': 1866,\n",
       " 'Bakery': 697,\n",
       " 'North Indian': 3597,\n",
       " 'Mithai': 379,\n",
       " 'Mughlai': 933,\n",
       " 'Cafe': 491,\n",
       " 'Raw Meats': 114,\n",
       " 'Burger': 152,\n",
       " 'South Indian': 569,\n",
       " 'Gujarati': 8,\n",
       " 'Rajasthani': 14,\n",
       " 'Thai': 176,\n",
       " 'Desserts': 542,\n",
       " 'American': 193,\n",
       " 'Salad': 89,\n",
       " 'Healthy Food': 143,\n",
       " 'Ice Cream': 210,\n",
       " 'Continental': 547,\n",
       " 'Beverages': 204,\n",
       " 'Italian': 535,\n",
       " 'Pizza': 282,\n",
       " 'Street Food': 538,\n",
       " 'Mexican': 80,\n",
       " 'Juices': 23,\n",
       " 'Asian': 151,\n",
       " 'Seafood': 53,\n",
       " 'Biryani': 160,\n",
       " 'Mediterranean': 60,\n",
       " 'Finger Food': 92,\n",
       " 'Kerala': 15,\n",
       " 'Japanese': 75,\n",
       " 'Lebanese': 57,\n",
       " 'Tea': 38,\n",
       " 'Belgian': 1,\n",
       " 'Kashmiri': 20,\n",
       " 'Sushi': 21,\n",
       " 'European': 87,\n",
       " 'South American': 2,\n",
       " 'Burmese': 6,\n",
       " 'Persian': 1,\n",
       " 'Arabian': 15,\n",
       " 'Steak': 1,\n",
       " 'Bengali': 27,\n",
       " 'Modern Indian': 9,\n",
       " 'Portuguese': 5,\n",
       " 'African': 4,\n",
       " 'Parsi': 7,\n",
       " 'Iranian': 3,\n",
       " 'Malaysian': 15,\n",
       " 'Vietnamese': 12,\n",
       " 'Greek': 2,\n",
       " 'Lucknowi': 12,\n",
       " 'Tibetan': 41,\n",
       " 'Korean': 15,\n",
       " 'Awadhi': 10,\n",
       " 'Hyderabadi': 23,\n",
       " 'Nepalese': 9,\n",
       " 'Drinks Only': 2,\n",
       " 'Pakistani': 2,\n",
       " 'Tex-Mex': 9,\n",
       " 'North Eastern': 7,\n",
       " 'Oriya': 2,\n",
       " 'Chettinad': 8,\n",
       " 'Bihari': 6,\n",
       " 'Afghani': 11,\n",
       " 'Middle Eastern': 11,\n",
       " 'Indonesian': 4,\n",
       " 'Goan': 6,\n",
       " 'Charcoal Grill': 1,\n",
       " 'Assamese': 4,\n",
       " 'Cuisine Varies': 1,\n",
       " 'Andhra': 3,\n",
       " 'Turkish': 8,\n",
       " 'Moroccan': 5,\n",
       " 'Indian': 5,\n",
       " 'French': 6,\n",
       " 'Maharashtrian': 6,\n",
       " 'Naga': 8,\n",
       " 'British': 2,\n",
       " 'Spanish': 5,\n",
       " 'Deli': 1,\n",
       " 'Sandwich': 1,\n",
       " 'Armenian': 2,\n",
       " 'Mangalorean': 1,\n",
       " 'Sri Lankan': 1}"
      ]
     },
     "execution_count": 31,
     "metadata": {},
     "output_type": "execute_result"
    }
   ],
   "source": [
    "#Print the Dictionary\n",
    "top_cuisines_dn"
   ]
  },
  {
   "cell_type": "code",
   "execution_count": 32,
   "metadata": {},
   "outputs": [],
   "source": [
    "#Sort the Dictionary on the basis of the values\n",
    "top_cuisines_dn={k: v for k, v in sorted(top_cuisines_dn.items(), key=lambda item: item[1],reverse=True)}"
   ]
  },
  {
   "cell_type": "code",
   "execution_count": 33,
   "metadata": {},
   "outputs": [
    {
     "data": {
      "text/plain": [
       "{'North Indian': 3597,\n",
       " 'Chinese': 2448,\n",
       " 'Fast Food': 1866,\n",
       " 'Mughlai': 933,\n",
       " 'Bakery': 697,\n",
       " 'South Indian': 569,\n",
       " 'Continental': 547,\n",
       " 'Desserts': 542,\n",
       " 'Street Food': 538,\n",
       " 'Italian': 535,\n",
       " 'Cafe': 491,\n",
       " 'Mithai': 379,\n",
       " 'Pizza': 282,\n",
       " 'Ice Cream': 210,\n",
       " 'Beverages': 204,\n",
       " 'American': 193,\n",
       " 'Thai': 176,\n",
       " 'Biryani': 160,\n",
       " 'Burger': 152,\n",
       " 'Asian': 151,\n",
       " 'Healthy Food': 143,\n",
       " 'Raw Meats': 114,\n",
       " 'Finger Food': 92,\n",
       " 'Salad': 89,\n",
       " 'European': 87,\n",
       " 'Mexican': 80,\n",
       " 'Japanese': 75,\n",
       " 'Mediterranean': 60,\n",
       " 'Lebanese': 57,\n",
       " 'Seafood': 53,\n",
       " 'Tibetan': 41,\n",
       " 'Tea': 38,\n",
       " 'Bengali': 27,\n",
       " 'Juices': 23,\n",
       " 'Hyderabadi': 23,\n",
       " 'Sushi': 21,\n",
       " 'Kashmiri': 20,\n",
       " 'Kerala': 15,\n",
       " 'Arabian': 15,\n",
       " 'Malaysian': 15,\n",
       " 'Korean': 15,\n",
       " 'Rajasthani': 14,\n",
       " 'Vietnamese': 12,\n",
       " 'Lucknowi': 12,\n",
       " 'Afghani': 11,\n",
       " 'Middle Eastern': 11,\n",
       " 'Awadhi': 10,\n",
       " 'Modern Indian': 9,\n",
       " 'Nepalese': 9,\n",
       " 'Tex-Mex': 9,\n",
       " 'Gujarati': 8,\n",
       " 'Chettinad': 8,\n",
       " 'Turkish': 8,\n",
       " 'Naga': 8,\n",
       " 'Parsi': 7,\n",
       " 'North Eastern': 7,\n",
       " 'Burmese': 6,\n",
       " 'Bihari': 6,\n",
       " 'Goan': 6,\n",
       " 'French': 6,\n",
       " 'Maharashtrian': 6,\n",
       " 'Portuguese': 5,\n",
       " 'Moroccan': 5,\n",
       " 'Indian': 5,\n",
       " 'Spanish': 5,\n",
       " 'African': 4,\n",
       " 'Indonesian': 4,\n",
       " 'Assamese': 4,\n",
       " 'Iranian': 3,\n",
       " 'Andhra': 3,\n",
       " 'South American': 2,\n",
       " 'Greek': 2,\n",
       " 'Drinks Only': 2,\n",
       " 'Pakistani': 2,\n",
       " 'Oriya': 2,\n",
       " 'British': 2,\n",
       " 'Armenian': 2,\n",
       " 'Belgian': 1,\n",
       " 'Persian': 1,\n",
       " 'Steak': 1,\n",
       " 'Charcoal Grill': 1,\n",
       " 'Cuisine Varies': 1,\n",
       " 'Deli': 1,\n",
       " 'Sandwich': 1,\n",
       " 'Mangalorean': 1,\n",
       " 'Sri Lankan': 1}"
      ]
     },
     "execution_count": 33,
     "metadata": {},
     "output_type": "execute_result"
    }
   ],
   "source": [
    "top_cuisines_dn"
   ]
  },
  {
   "cell_type": "code",
   "execution_count": 34,
   "metadata": {},
   "outputs": [],
   "source": [
    "#Sort the Dictionary on the basis of the values\n",
    "top_cuisines_roi={k: v for k, v in sorted(top_cuisines_roi.items(), key=lambda item: item[1],reverse=True)}"
   ]
  },
  {
   "cell_type": "code",
   "execution_count": 35,
   "metadata": {},
   "outputs": [
    {
     "data": {
      "text/plain": [
       "{'North Indian': 349,\n",
       " 'Chinese': 242,\n",
       " 'Continental': 177,\n",
       " 'Italian': 147,\n",
       " 'Cafe': 136,\n",
       " 'Fast Food': 97,\n",
       " 'South Indian': 62,\n",
       " 'Mughlai': 59,\n",
       " 'Desserts': 55,\n",
       " 'Mexican': 50,\n",
       " 'Asian': 35,\n",
       " 'European': 32,\n",
       " 'American': 32,\n",
       " 'Pizza': 31,\n",
       " 'Mediterranean': 30,\n",
       " 'Thai': 29,\n",
       " 'Bakery': 29,\n",
       " 'Seafood': 28,\n",
       " 'Finger Food': 17,\n",
       " 'Street Food': 16,\n",
       " 'Biryani': 15,\n",
       " 'Burger': 13,\n",
       " 'Goan': 13,\n",
       " 'Beverages': 12,\n",
       " 'Lebanese': 8,\n",
       " 'Modern Indian': 7,\n",
       " 'Tex-Mex': 7,\n",
       " 'Japanese': 7,\n",
       " 'Andhra': 7,\n",
       " 'Kerala': 7,\n",
       " 'Rajasthani': 6,\n",
       " 'Ice Cream': 6,\n",
       " 'Tea': 6,\n",
       " 'French': 6,\n",
       " 'Arabian': 5,\n",
       " 'Maharashtrian': 4,\n",
       " 'Burmese': 4,\n",
       " 'Gujarati': 3,\n",
       " 'Healthy Food': 3,\n",
       " 'Salad': 3,\n",
       " 'Juices': 3,\n",
       " 'Charcoal Grill': 3,\n",
       " 'Malaysian': 3,\n",
       " 'Chettinad': 3,\n",
       " 'Greek': 3,\n",
       " 'Tibetan': 3,\n",
       " 'Mangalorean': 3,\n",
       " 'Hyderabadi': 2,\n",
       " 'Spanish': 2,\n",
       " 'Indian': 2,\n",
       " 'German': 2,\n",
       " 'Bengali': 2,\n",
       " 'Middle Eastern': 2,\n",
       " 'Vietnamese': 2,\n",
       " 'Indonesian': 2,\n",
       " 'Sandwich': 1,\n",
       " 'Armenian': 1,\n",
       " 'Mithai': 1,\n",
       " 'Steak': 1,\n",
       " 'Parsi': 1,\n",
       " 'Awadhi': 1,\n",
       " 'Lucknowi': 1,\n",
       " 'Portuguese': 1,\n",
       " 'African': 1,\n",
       " 'British': 1,\n",
       " 'Malwani': 1,\n",
       " 'Korean': 1,\n",
       " 'North Eastern': 1,\n",
       " 'BBQ': 1,\n",
       " 'Cajun': 1}"
      ]
     },
     "execution_count": 35,
     "metadata": {},
     "output_type": "execute_result"
    }
   ],
   "source": [
    "top_cuisines_roi"
   ]
  },
  {
   "cell_type": "code",
   "execution_count": 36,
   "metadata": {},
   "outputs": [],
   "source": [
    "'''Getting the top 10 Cuisines that Served in Delhi NCR'''\n",
    "top_ten_cuisines_name_dn=[]\n",
    "top_ten_cuisines_values_dn=[]\n",
    "top_ten_cuisines_dn={}\n",
    "count=0\n",
    "for i in top_cuisines_dn:\n",
    "    if count<10:\n",
    "        top_ten_cuisines_dn[i]=top_cuisines_dn[i]\n",
    "        top_ten_cuisines_name_dn.append(i)\n",
    "        top_ten_cuisines_values_dn.append(top_cuisines_dn[i])\n",
    "    count+=1"
   ]
  },
  {
   "cell_type": "code",
   "execution_count": 37,
   "metadata": {},
   "outputs": [
    {
     "data": {
      "text/plain": [
       "{'North Indian': 3597,\n",
       " 'Chinese': 2448,\n",
       " 'Fast Food': 1866,\n",
       " 'Mughlai': 933,\n",
       " 'Bakery': 697,\n",
       " 'South Indian': 569,\n",
       " 'Continental': 547,\n",
       " 'Desserts': 542,\n",
       " 'Street Food': 538,\n",
       " 'Italian': 535}"
      ]
     },
     "execution_count": 37,
     "metadata": {},
     "output_type": "execute_result"
    }
   ],
   "source": [
    "#Top ten Cuisines of the Delhi NCR\n",
    "top_ten_cuisines_dn"
   ]
  },
  {
   "cell_type": "code",
   "execution_count": 38,
   "metadata": {},
   "outputs": [],
   "source": [
    "'''Getting the top 10 Cuisines that Served in Rest of India'''\n",
    "top_ten_cuisines_name_roi=[]\n",
    "top_ten_cuisines_values_roi=[]\n",
    "top_ten_cuisines_roi={}\n",
    "count=0\n",
    "for i in top_cuisines_roi:\n",
    "    if count<10:\n",
    "        top_ten_cuisines_roi[i]=top_cuisines_roi[i]\n",
    "        top_ten_cuisines_name_roi.append(i)\n",
    "        top_ten_cuisines_values_roi.append(top_cuisines_roi[i])\n",
    "    count+=1"
   ]
  },
  {
   "cell_type": "code",
   "execution_count": 39,
   "metadata": {},
   "outputs": [
    {
     "data": {
      "text/plain": [
       "{'North Indian': 349,\n",
       " 'Chinese': 242,\n",
       " 'Continental': 177,\n",
       " 'Italian': 147,\n",
       " 'Cafe': 136,\n",
       " 'Fast Food': 97,\n",
       " 'South Indian': 62,\n",
       " 'Mughlai': 59,\n",
       " 'Desserts': 55,\n",
       " 'Mexican': 50}"
      ]
     },
     "execution_count": 39,
     "metadata": {},
     "output_type": "execute_result"
    }
   ],
   "source": [
    "#Top ten Cuisines of the Rest of India\n",
    "top_ten_cuisines_roi"
   ]
  },
  {
   "cell_type": "code",
   "execution_count": 40,
   "metadata": {},
   "outputs": [
    {
     "data": {
      "image/png": "[encoded data removed]",
      "text/plain": [
       "<Figure size 1152x360 with 1 Axes>"
      ]
     },
     "metadata": {
      "needs_background": "light"
     },
     "output_type": "display_data"
    }
   ],
   "source": [
    "#Plot the Graph for the Delhi NCR Cuisines\n",
    "my_colors = list('rgbkymc')\n",
    "plt.rcParams[\"figure.figsize\"] = (16,5)\n",
    "s = pd.Series(\n",
    "    top_ten_cuisines_values_dn,\n",
    "    index = top_ten_cuisines_name_dn\n",
    ")\n",
    "s.plot(\n",
    "    kind='bar', \n",
    "    color=my_colors,\n",
    ")\n",
    "plt.title(\"Delhi-NCR Cuisines\")\n",
    "plt.show()"
   ]
  },
  {
   "cell_type": "code",
   "execution_count": 41,
   "metadata": {},
   "outputs": [
    {
     "data": {
      "image/png": "[encoded data removed]",
      "text/plain": [
       "<Figure size 1152x360 with 1 Axes>"
      ]
     },
     "metadata": {
      "needs_background": "light"
     },
     "output_type": "display_data"
    }
   ],
   "source": [
    "#Plot the Graph for the Rest of India Cuisines\n",
    "my_colors = list('rgbkymc')\n",
    "plt.rcParams[\"figure.figsize\"] = (16,5)\n",
    "s = pd.Series(\n",
    "    top_ten_cuisines_values_roi,\n",
    "    index = top_ten_cuisines_name_roi\n",
    ")\n",
    "s.plot(\n",
    "    kind='bar', \n",
    "    color=my_colors,\n",
    ")\n",
    "plt.title(\"Rest of India Cuisines\")\n",
    "plt.show()"
   ]
  },
  {
   "cell_type": "markdown",
   "metadata": {},
   "source": [
    "# Question 1d"
   ]
  },
  {
   "cell_type": "code",
   "execution_count": 42,
   "metadata": {},
   "outputs": [
    {
     "data": {
      "image/png": "[encoded data removed]",
      "text/plain": [
       "<Figure size 1152x360 with 1 Axes>"
      ]
     },
     "metadata": {},
     "output_type": "display_data"
    }
   ],
   "source": [
    "#Plot the Graph for the Delhi NCR Cuisines\n",
    "s = pd.Series(\n",
    "    top_ten_cuisines_values_dn,\n",
    "    index = top_ten_cuisines_name_dn\n",
    ")\n",
    "s.plot(\n",
    "    kind='pie', \n",
    "    \n",
    ")\n",
    "plt.title(\"Delhi-NCR Cuisines\")\n",
    "plt.show()"
   ]
  },
  {
   "cell_type": "code",
   "execution_count": 43,
   "metadata": {},
   "outputs": [
    {
     "data": {
      "image/png": "[encoded data removed]",
      "text/plain": [
       "<Figure size 1152x360 with 1 Axes>"
      ]
     },
     "metadata": {},
     "output_type": "display_data"
    }
   ],
   "source": [
    "#Plot the Graph for the Rest of India Cuisines\n",
    "s = pd.Series(\n",
    "    top_ten_cuisines_values_roi,\n",
    "    index = top_ten_cuisines_name_roi\n",
    ")\n",
    "s.plot(\n",
    "    kind='pie', \n",
    ")\n",
    "plt.title(\"Rest of India Cuisines\")\n",
    "plt.show()"
   ]
  },
  {
   "cell_type": "code",
   "execution_count": 44,
   "metadata": {},
   "outputs": [
    {
     "name": "stdout",
     "output_type": "stream",
     "text": [
      "From this graph we can see the cuisines Street Food is quite famous in New Delhi compared to rest of India.\n",
      "Mughlai is quite famous cuisines in Delhi-NCR compared to rest of India.\n",
      "North Indian and Chinese having almost same popularity for both the Delhi-NCR and rest of India\n",
      "Desserts gets a similar treatment where it is at an eight in Delhi-NCR but drops to the ninth spot in Rest of India.\n",
      "South Indian, which is at the sixth in Delhi-NCR falls to the seventh in Rest of India.\n"
     ]
    }
   ],
   "source": [
    "print(\"From this graph we can see the cuisines Street Food is quite famous in New Delhi compared to rest of India.\")\n",
    "print(\"Mughlai is quite famous cuisines in Delhi-NCR compared to rest of India.\")\n",
    "print(\"North Indian and Chinese having almost same popularity for both the Delhi-NCR and rest of India\")\n",
    "print(\"Desserts gets a similar treatment where it is at an eight in Delhi-NCR but drops to the ninth spot in Rest of India.\")\n",
    "print(\"South Indian, which is at the sixth in Delhi-NCR falls to the seventh in Rest of India.\")\n"
   ]
  },
  {
   "cell_type": "markdown",
   "metadata": {},
   "source": [
    "# Question 2"
   ]
  },
  {
   "cell_type": "markdown",
   "metadata": {},
   "source": [
    "2.User Rating of a restaurant plays a crucial role in selecting a restaurant or ordering the food from the restaurant. \n",
    "a)Write a short detail analysis of how the rating is affected by restaurant due following features: Plot a suitable graph to explain your inference.\n",
    "i)Number of Votes given Restaurant\n",
    "ii)Restaurant serving more number of cuisines.\n",
    "iii)Average Cost of Restaurant\n",
    "iv)Restaurant serving some specific cuisines.\n",
    "b)Find the weighted restaurant rating of each locality and find out the top 10 localities with more weighted restaurant rating?\n",
    "Weighted Restaurant Rating=Σ (number of votes * rating) / Σ (number of votes) .\n"
   ]
  },
  {
   "cell_type": "code",
   "execution_count": 45,
   "metadata": {},
   "outputs": [
    {
     "data": {
      "text/plain": [
       "0       3.9\n",
       "1       3.5\n",
       "2       3.6\n",
       "3       4.0\n",
       "4       4.2\n",
       "       ... \n",
       "8647    3.6\n",
       "8648    3.7\n",
       "8649    4.3\n",
       "8650    3.8\n",
       "8651    4.4\n",
       "Name: Aggregate rating, Length: 8652, dtype: float64"
      ]
     },
     "execution_count": 45,
     "metadata": {},
     "output_type": "execute_result"
    }
   ],
   "source": [
    "df_india['Aggregate rating']"
   ]
  },
  {
   "cell_type": "markdown",
   "metadata": {},
   "source": [
    "# Question 2a i)"
   ]
  },
  {
   "cell_type": "code",
   "execution_count": 46,
   "metadata": {},
   "outputs": [
    {
     "data": {
      "image/png": "[encoded data removed]",
      "text/plain": [
       "<Figure size 720x432 with 1 Axes>"
      ]
     },
     "metadata": {
      "needs_background": "light"
     },
     "output_type": "display_data"
    }
   ],
   "source": [
    "df_india.plot.scatter(x='Aggregate rating',y='Votes',figsize=(10,6), color='darkgreen', title=\"Agg Rating vs Votes\")\n",
    "plt.show()"
   ]
  },
  {
   "cell_type": "code",
   "execution_count": 47,
   "metadata": {},
   "outputs": [
    {
     "name": "stdout",
     "output_type": "stream",
     "text": [
      "In general trend more number of votes signify restaturant provide good serivice\n",
      "From the graph we can see that if Number of votes is greater than 4500 then restaurant rating lie between 3.5-5.0\n",
      "If Number of Votes is greater tahn 6000 then restaurant rating lie between 4.3-5\n",
      "More number of votes means more rating\n"
     ]
    }
   ],
   "source": [
    "print('In general trend more number of votes signify restaturant provide good serivice')\n",
    "print('From the graph we can see that if Number of votes is greater than 4500 then restaurant rating lie between 3.5-5.0')\n",
    "print('If Number of Votes is greater tahn 6000 then restaurant rating lie between 4.3-5')\n",
    "print(\"More number of votes means more rating\")"
   ]
  },
  {
   "cell_type": "markdown",
   "metadata": {},
   "source": [
    "# Question 2 a ii)"
   ]
  },
  {
   "cell_type": "code",
   "execution_count": 48,
   "metadata": {},
   "outputs": [],
   "source": [
    "#Copying the Dataframe\n",
    "data_india_rating=df_india.copy()"
   ]
  },
  {
   "cell_type": "code",
   "execution_count": 49,
   "metadata": {},
   "outputs": [],
   "source": [
    "#Removing the na values from the Dataframe\n",
    "data_india_rating.dropna(inplace=True)"
   ]
  },
  {
   "cell_type": "code",
   "execution_count": 50,
   "metadata": {},
   "outputs": [],
   "source": [
    "#Fucntion to get the length of cuisines\n",
    "def cuisines(arr):\n",
    "    cuisines_list=arr.split(',')\n",
    "    return len(cuisines_list)"
   ]
  },
  {
   "cell_type": "code",
   "execution_count": 51,
   "metadata": {},
   "outputs": [],
   "source": [
    "#Calling the Function\n",
    "data_india_rating['Number_Cuisines']=data_india_rating['Cuisines'].apply(cuisines)"
   ]
  },
  {
   "cell_type": "code",
   "execution_count": 52,
   "metadata": {},
   "outputs": [
    {
     "data": {
      "text/plain": [
       "2    3144\n",
       "1    3097\n",
       "3    1596\n",
       "4     552\n",
       "5     155\n",
       "6      70\n",
       "7      26\n",
       "8      12\n",
       "Name: Number_Cuisines, dtype: int64"
      ]
     },
     "execution_count": 52,
     "metadata": {},
     "output_type": "execute_result"
    }
   ],
   "source": [
    "data_india_rating['Number_Cuisines'].value_counts()"
   ]
  },
  {
   "cell_type": "code",
   "execution_count": 53,
   "metadata": {},
   "outputs": [
    {
     "data": {
      "image/png": "[encoded data removed]",
      "text/plain": [
       "<Figure size 1152x360 with 1 Axes>"
      ]
     },
     "metadata": {
      "needs_background": "light"
     },
     "output_type": "display_data"
    },
    {
     "name": "stdout",
     "output_type": "stream",
     "text": [
      "Higher the Cuisines in Restaurant, more will be the rating\n"
     ]
    }
   ],
   "source": [
    "#Plotting the Graph\n",
    "rating_average=[]\n",
    "cuisine_num=np.arange(1,9)\n",
    "for i in cuisine_num:\n",
    "    rating_average.append(data_india_rating[data_india_rating['Number_Cuisines']==i]['Aggregate rating'].mean())\n",
    "my_colors = list('bmgkrcym')\n",
    "plt.rcParams[\"figure.figsize\"] = (16,5)\n",
    "s = pd.Series(\n",
    "    rating_average,\n",
    "    index = cuisine_num\n",
    ")\n",
    "s.plot(\n",
    "    kind='bar', \n",
    "    color=my_colors,\n",
    ")\n",
    "plt.xlabel(\"Number of cuisine\")\n",
    "plt.ylabel(\"Average Rating\")\n",
    "plt.title(\"Number of Cuisine vs Average Rating\")\n",
    "plt.show()\n",
    "print('Higher the Cuisines in Restaurant, more will be the rating')"
   ]
  },
  {
   "cell_type": "markdown",
   "metadata": {},
   "source": [
    "# Questinon 2a iii)"
   ]
  },
  {
   "cell_type": "code",
   "execution_count": 54,
   "metadata": {},
   "outputs": [
    {
     "data": {
      "image/png": "[encoded data removed]",
      "text/plain": [
       "<Figure size 720x576 with 1 Axes>"
      ]
     },
     "metadata": {
      "needs_background": "light"
     },
     "output_type": "display_data"
    }
   ],
   "source": [
    "df_india.plot.scatter(x='Average Cost for two',y='Aggregate rating',figsize=(10,8), color='red', title=\"Cost vs Average Rating\")\n",
    "plt.show()"
   ]
  },
  {
   "cell_type": "code",
   "execution_count": 55,
   "metadata": {},
   "outputs": [
    {
     "name": "stdout",
     "output_type": "stream",
     "text": [
      "There are some outliers in the data where cost is listed as 0 because it might not be captured for those restaurants\n",
      "From the above graph, we can see that most of the data is clustered around cost upto 2000 and rating values from 2 to 4.5 approximately. There are few restaurants with cost range between 2500 to 6000.\n"
     ]
    }
   ],
   "source": [
    "'''Analysis'''\n",
    "print('There are some outliers in the data where cost is listed as 0 because it might not be captured for those restaurants')\n",
    "print('From the above graph, we can see that most of the data is clustered around cost upto 2000 and rating values from 2 to 4.5 approximately. There are few restaurants with cost range between 2500 to 6000.')"
   ]
  },
  {
   "cell_type": "code",
   "execution_count": 56,
   "metadata": {},
   "outputs": [
    {
     "data": {
      "image/png": "[encoded data removed]",
      "text/plain": [
       "<Figure size 432x432 with 3 Axes>"
      ]
     },
     "metadata": {
      "needs_background": "light"
     },
     "output_type": "display_data"
    },
    {
     "name": "stdout",
     "output_type": "stream",
     "text": [
      "In above graph, we can see clearly that the maximum number of rating values are around 3 to 3.5 and the Average cost for two up to 1000.\n"
     ]
    }
   ],
   "source": [
    "sns.jointplot(x='Average Cost for two',y='Aggregate rating',kind ='hex',gridsize=12,data =df_india,color='orange')\n",
    "plt.show()\n",
    "print('In above graph, we can see clearly that the maximum number of rating values are around 3 to 3.5 and the Average cost for two up to 1000.')"
   ]
  },
  {
   "cell_type": "markdown",
   "metadata": {},
   "source": [
    "# Question 2a iv)"
   ]
  },
  {
   "cell_type": "code",
   "execution_count": 57,
   "metadata": {},
   "outputs": [],
   "source": [
    "#Getting the new Dataframe \n",
    "df_india_specific_cuisines=df_india.copy()"
   ]
  },
  {
   "cell_type": "code",
   "execution_count": 58,
   "metadata": {},
   "outputs": [],
   "source": [
    "#Fixing Column Names with spaces\n",
    "df_india_specific_cuisines.columns = df_india_specific_cuisines.columns.str.strip().str.lower().str.replace(' ', '_')"
   ]
  },
  {
   "cell_type": "code",
   "execution_count": 59,
   "metadata": {},
   "outputs": [],
   "source": [
    "#Dictionary for Cuisines as key and rating as value\n",
    "def getdict(df):\n",
    "    d={}\n",
    "    for i in range(df.shape[0]):\n",
    "        key=df.iloc[i,9]\n",
    "        value=df.iloc[i,17]\n",
    "        if key in d:\n",
    "            d[key]=str(d[key])+\",\"+str(value)\n",
    "        else:\n",
    "            d[key]=str(value)\n",
    "    return d"
   ]
  },
  {
   "cell_type": "code",
   "execution_count": 60,
   "metadata": {},
   "outputs": [],
   "source": [
    "#Average\n",
    "def average(arr):\n",
    "    return round(sum(arr)/len(arr),2)"
   ]
  },
  {
   "cell_type": "code",
   "execution_count": 61,
   "metadata": {},
   "outputs": [],
   "source": [
    "#Finding the Average rating \n",
    "def average_rating(d):\n",
    "    for i in d:\n",
    "        p=d[i].split(\",\")\n",
    "        for j in range(len(p)):\n",
    "            p[j]=p[j].strip()\n",
    "            k=[]\n",
    "            for x in p:\n",
    "                k.append(float(x))\n",
    "            d[i]=average(k)\n",
    "    return d"
   ]
  },
  {
   "cell_type": "code",
   "execution_count": 62,
   "metadata": {},
   "outputs": [],
   "source": [
    "#Calling the getdict function\n",
    "dict_specific=getdict(df_india_specific_cuisines)"
   ]
  },
  {
   "cell_type": "code",
   "execution_count": 63,
   "metadata": {},
   "outputs": [
    {
     "data": {
      "text/plain": [
       "'4.0,0.0,4.3,4.1'"
      ]
     },
     "execution_count": 63,
     "metadata": {},
     "output_type": "execute_result"
    }
   ],
   "source": [
    "#Eg to show the dictionary content\n",
    "dict_specific['Rajasthani']"
   ]
  },
  {
   "cell_type": "code",
   "execution_count": 64,
   "metadata": {},
   "outputs": [],
   "source": [
    "#Calling the average_rating fun\n",
    "dict_specific=average_rating(dict_specific)"
   ]
  },
  {
   "cell_type": "code",
   "execution_count": 65,
   "metadata": {},
   "outputs": [],
   "source": [
    "#Sort the dictionary on the basis of values\n",
    "dict_specific={k:v for k,v in sorted(dict_specific.items(),key=lambda item:item[1],reverse=True)}"
   ]
  },
  {
   "cell_type": "code",
   "execution_count": 66,
   "metadata": {},
   "outputs": [],
   "source": [
    "specific_dish,new_rating=[],[]\n",
    "count=0\n",
    "for i in dict_specific:\n",
    "    if count<10:\n",
    "        specific_dish.append(i)\n",
    "        new_rating.append(dict_specific[i])\n",
    "    count+=1"
   ]
  },
  {
   "cell_type": "code",
   "execution_count": 67,
   "metadata": {},
   "outputs": [
    {
     "data": {
      "image/png": "[encoded data removed]",
      "text/plain": [
       "<Figure size 1152x360 with 1 Axes>"
      ]
     },
     "metadata": {
      "needs_background": "light"
     },
     "output_type": "display_data"
    },
    {
     "name": "stdout",
     "output_type": "stream",
     "text": [
      "More specific the dish, it will help to get higher rating for the restaurant\n"
     ]
    }
   ],
   "source": [
    "          '''Graph'''\n",
    "# Get a color map\n",
    "my_cmap = cm.get_cmap('jet')\n",
    "# Get normalize function (takes data in range [vmin, vmax] -> [0, 1])\n",
    "my_norm = Normalize(vmin=0, vmax=8)\n",
    "#Plot the Graph\n",
    "fig, ax = plt.subplots(1, 1)\n",
    "plt.grid()\n",
    "plt.xlabel(\"Specific Cuisines\")\n",
    "plt.ylabel(\"Average Rating\")\n",
    "plt.xticks(rotation=90)\n",
    "ax.bar(specific_dish, new_rating, color=my_cmap(my_norm(new_rating)))\n",
    "plt.show()\n",
    "print(\"More specific the dish, it will help to get higher rating for the restaurant\")"
   ]
  },
  {
   "cell_type": "markdown",
   "metadata": {},
   "source": [
    "# Question 2b"
   ]
  },
  {
   "cell_type": "markdown",
   "metadata": {},
   "source": [
    "'''Weightage Restaurants  Rating of Each Locality'''"
   ]
  },
  {
   "cell_type": "code",
   "execution_count": 68,
   "metadata": {},
   "outputs": [],
   "source": [
    "#Gettign the Votes and Weighted Restaurants rating\n",
    "votes=[]\n",
    "weight_res={}\n",
    "#unique Locality names\n",
    "for j in df_india['Locality'].unique():\n",
    "    temp=df_india[df_india['Locality']==j]\n",
    "    calc,v=float(),float()\n",
    "    for index,row in temp.iterrows():\n",
    "        if row['Votes']>0:\n",
    "            t1=row['Votes']\n",
    "            t2=row['Aggregate rating']\n",
    "            calc=calc+(float(t1)*t2)\n",
    "            v+=t1\n",
    "    if v>0:\n",
    "        weight=round(calc/v,3)\n",
    "        weight_res[j]=weight"
   ]
  },
  {
   "cell_type": "code",
   "execution_count": 69,
   "metadata": {},
   "outputs": [
    {
     "data": {
      "text/plain": [
       "[('Hotel Clarks Amer, Malviya Nagar', 4.9),\n",
       " ('Aminabad', 4.9),\n",
       " ('Friends Colony', 4.887),\n",
       " ('Powai', 4.842),\n",
       " ('Kirlampudi Layout', 4.82),\n",
       " ('Express Avenue Mall,  Royapettah', 4.8),\n",
       " ('Deccan Gymkhana', 4.8),\n",
       " ('Banjara Hills', 4.719),\n",
       " ('Sector 5, Salt Lake', 4.707),\n",
       " ('Riverside Mall, Gomti Nagar', 4.7)]"
      ]
     },
     "execution_count": 69,
     "metadata": {},
     "output_type": "execute_result"
    }
   ],
   "source": [
    "#Sort the dictionary in reverse order\n",
    "sorted_weight_res = sorted(weight_res.items(), key=lambda kv: kv[1],reverse=True)\n",
    "#Getting top 10 keys and values\n",
    "sorted_weight_res[:10]"
   ]
  },
  {
   "cell_type": "code",
   "execution_count": 70,
   "metadata": {},
   "outputs": [
    {
     "data": {
      "text/plain": [
       "(['Hotel Clarks Amer, Malviya Nagar',\n",
       "  'Aminabad',\n",
       "  'Friends Colony',\n",
       "  'Powai',\n",
       "  'Kirlampudi Layout',\n",
       "  'Express Avenue Mall,  Royapettah',\n",
       "  'Deccan Gymkhana',\n",
       "  'Banjara Hills',\n",
       "  'Sector 5, Salt Lake',\n",
       "  'Riverside Mall, Gomti Nagar'],\n",
       " [4.9, 4.9, 4.887, 4.842, 4.82, 4.8, 4.8, 4.719, 4.707, 4.7])"
      ]
     },
     "execution_count": 70,
     "metadata": {},
     "output_type": "execute_result"
    }
   ],
   "source": [
    "#Taking the key and value in list for plotting\n",
    "location,rating_weighted=[],[]\n",
    "count=0\n",
    "for i in sorted_weight_res[:10]:\n",
    "    location.append(i[0])\n",
    "    rating_weighted.append(i[1])\n",
    "location,rating_weighted"
   ]
  },
  {
   "cell_type": "code",
   "execution_count": 71,
   "metadata": {},
   "outputs": [
    {
     "data": {
      "image/png": "[encoded data removed]",
      "text/plain": [
       "<Figure size 1152x360 with 1 Axes>"
      ]
     },
     "metadata": {
      "needs_background": "light"
     },
     "output_type": "display_data"
    }
   ],
   "source": [
    "                '''Graph'''\n",
    "plt.bar(location, rating_weighted, color=['orange', 'red', 'green', 'blue', 'cyan','maroon','darkgreen','yellow','lightgreen','purple'])\n",
    "plt.xticks(rotation=90)\n",
    "plt.xlabel(\"Location\")\n",
    "plt.ylabel(\"Weighted Rating\")\n",
    "plt.show()"
   ]
  },
  {
   "cell_type": "code",
   "execution_count": null,
   "metadata": {},
   "outputs": [],
   "source": []
  }
 ],
 "metadata": {
  "kernelspec": {
   "display_name": "Python 3",
   "language": "python",
   "name": "python3"
  },
  "language_info": {
   "codemirror_mode": {
    "name": "ipython",
    "version": 3
   },
   "file_extension": ".py",
   "mimetype": "text/x-python",
   "name": "python",
   "nbconvert_exporter": "python",
   "pygments_lexer": "ipython3",
   "version": "3.7.4"
  }
 },
 "nbformat": 4,
 "nbformat_minor": 2
}
